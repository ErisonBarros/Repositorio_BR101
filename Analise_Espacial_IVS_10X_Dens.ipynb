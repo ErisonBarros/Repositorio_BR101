{
  "nbformat": 4,
  "nbformat_minor": 0,
  "metadata": {
    "colab": {
      "name": "Analise Espacial_IVS_10X Dens.ipynb",
      "provenance": [],
      "mount_file_id": "1bWCvTOYhPCfLgpqOlktVjNjeea9Tc8Qx",
      "authorship_tag": "ABX9TyNBXaKMrHUpq5MPvQLcIh7E",
      "include_colab_link": true
    },
    "kernelspec": {
      "name": "python3",
      "display_name": "Python 3"
    },
    "language_info": {
      "name": "python"
    }
  },
  "cells": [
    {
      "cell_type": "markdown",
      "metadata": {
        "id": "view-in-github",
        "colab_type": "text"
      },
      "source": [
        "<a href=\"https://colab.research.google.com/github/ErisonBarros/Repositorio_BR101/blob/erison.barros/Analise_Espacial_IVS_10X_Dens.ipynb\" target=\"_parent\"><img src=\"https://colab.research.google.com/assets/colab-badge.svg\" alt=\"Open In Colab\"/></a>"
      ]
    },
    {
      "cell_type": "markdown",
      "source": [
        "<table class=\"ee-notebook-buttons\" align=\"left\">\n",
        "    <td><a target=\"_blank\"  href=\"https://github.com/giswqs/earthengine-py-notebooks/tree/master/Template/geemap_colab.ipynb\"><img width=32px src=\"https://www.tensorflow.org/images/GitHub-Mark-32px.png\" /> View source on GitHub</a></td>\n",
        "    <td><a target=\"_blank\"  href=\"https://nbviewer.jupyter.org/github/giswqs/earthengine-py-notebooks/blob/master/Template/geemap_colab.ipynb\"><img width=26px src=\"https://upload.wikimedia.org/wikipedia/commons/thumb/3/38/Jupyter_logo.svg/883px-Jupyter_logo.svg.png\" />Notebook Viewer</a></td>\n",
        "    <td><a target=\"_blank\"  href=\"https://colab.research.google.com/github/giswqs/earthengine-py-notebooks/blob/master/Template/geemap_colab.ipynb\"><img src=\"https://www.tensorflow.org/images/colab_logo_32px.png\" /> Run in Google Colab</a></td>\n",
        "</table>"
      ],
      "metadata": {
        "id": "s3nzRCIuOJMF"
      }
    },
    {
      "cell_type": "markdown",
      "source": [
        "<a href=\"https://github.com/ErisonBarros/modelojupyternotebook/blob/erison.barros/C%C3%B3pia_de_Modelo_Notebook.ipynb\"><img align=\"left\" src=\"https://colab.research.google.com/assets/colab-badge.svg\" alt=\"Open in Colab\" title=\"Open and Execute in Google Colaboratory\"></a>"
      ],
      "metadata": {
        "id": "sCSuMUMXOPy_"
      }
    },
    {
      "cell_type": "code",
      "source": [
        "%ls -a"
      ],
      "metadata": {
        "id": "jqz8NIbd6iAk",
        "outputId": "daf437cd-4754-478b-e430-c72b1df9ceea",
        "colab": {
          "base_uri": "https://localhost:8080/"
        }
      },
      "execution_count": null,
      "outputs": [
        {
          "output_type": "stream",
          "name": "stdout",
          "text": [
            "\u001b[0m\u001b[01;34m.\u001b[0m/  \u001b[01;34m..\u001b[0m/  \u001b[01;34m.config\u001b[0m/  \u001b[01;34mdrive\u001b[0m/  \u001b[01;34msample_data\u001b[0m/\n"
          ]
        }
      ]
    },
    {
      "cell_type": "code",
      "source": [
        "% cd /content/drive/MyDrive/Colab Notebooks/Profile_BR-101"
      ],
      "metadata": {
        "id": "7r9So0FL-NeS",
        "outputId": "5f4fe916-2e0b-40f6-9965-8f54dcae73a8",
        "colab": {
          "base_uri": "https://localhost:8080/"
        }
      },
      "execution_count": null,
      "outputs": [
        {
          "output_type": "stream",
          "name": "stdout",
          "text": [
            "/content/drive/MyDrive/Colab Notebooks/Profile_BR-101\n"
          ]
        }
      ]
    },
    {
      "cell_type": "code",
      "source": [
        "!sudo apt-get update\n",
        "!sudo apt-get install textlive-full"
      ],
      "metadata": {
        "id": "_cq-kWqJ7dkb"
      },
      "execution_count": null,
      "outputs": []
    },
    {
      "cell_type": "code",
      "source": [
        "pip install nbconvert"
      ],
      "metadata": {
        "id": "sS7QKCcZ8yDV"
      },
      "execution_count": null,
      "outputs": []
    },
    {
      "cell_type": "code",
      "source": [
        "from IPython.display import set_matplotlib_formats\n",
        "set_matplotlib_formats('pdf', 'svg')"
      ],
      "metadata": {
        "id": "kl5279KYJY_s"
      },
      "execution_count": 14,
      "outputs": []
    },
    {
      "cell_type": "code",
      "source": [
        "!wget -nc /content/drive/MyDrive/Colab Notebooks/Profile_BR-101/Analise Espacial_IVS_10X Dens.ipynb\n",
        "rom colab_pdf import colab_pdf\n",
        "colab_pdf('pandas-assignment.ipynb')"
      ],
      "metadata": {
        "colab": {
          "base_uri": "https://localhost:8080/"
        },
        "id": "ls1YT0IYJLxN",
        "outputId": "d6da918f-e8de-482f-8443-cf953bc4a561"
      },
      "execution_count": 17,
      "outputs": [
        {
          "output_type": "stream",
          "name": "stdout",
          "text": [
            "/content/drive/MyDrive/Colab: Scheme missing.\n",
            "--2022-08-08 20:30:52--  http://notebooks/Profile_BR-101/Analise\n",
            "Resolving notebooks (notebooks)... failed: Name or service not known.\n",
            "wget: unable to resolve host address ‘notebooks’\n",
            "--2022-08-08 20:30:52--  http://espacial_ivs_10x/\n",
            "Resolving espacial_ivs_10x (espacial_ivs_10x)... failed: Name or service not known.\n",
            "wget: unable to resolve host address ‘espacial_ivs_10x’\n",
            "--2022-08-08 20:30:52--  http://dens.ipynb/\n",
            "Resolving dens.ipynb (dens.ipynb)... failed: Name or service not known.\n",
            "wget: unable to resolve host address ‘dens.ipynb’\n"
          ]
        }
      ]
    },
    {
      "cell_type": "code",
      "source": [
        "# ! jupyter nbconvert --to pdf notebook.ipynb;\n",
        "\n",
        "!jupyter nbconvert --to html /content/foo.ipynb\n",
        "\n",
        "#! jupyter nbconvert Analise_Espacial_IVS_10X_Dens.ipynb --to pdf\n",
        "\n",
        "# !jupyter nbconvert --to pdf\n",
        "\n",
        "!sudo apt-get install texlive-xetex texlive-fonts-recommended texlive-plain-generic\n",
        "!jupyter nbconvert --to pdf /content/drive/MyDrive/Colab Notebooks/Profile_BR-101/Analise Espacial_IVS_10X Dens.ipynb"
      ],
      "metadata": {
        "id": "Wri5plXQ72aZ"
      },
      "execution_count": null,
      "outputs": []
    },
    {
      "cell_type": "code",
      "source": [
        "! jupyter nbconvert --to hml /content/drive/MyDrive/Colab Notebooks/Profile_BR-101/Analise Espacial_IVS_10X Dens.ipynb"
      ],
      "metadata": {
        "id": "OAbmeVvJHfz_"
      },
      "execution_count": null,
      "outputs": []
    },
    {
      "cell_type": "code",
      "source": [
        "!jupyter nbconvert --to pdf /content/drive/MyDrive/Colab Notebooks/Profile_BR-101/Analise Espacial_IVS_10X Dens.ipynb"
      ],
      "metadata": {
        "id": "TFTRksIXIQ-F"
      },
      "execution_count": null,
      "outputs": []
    },
    {
      "cell_type": "code",
      "source": [
        "!pip install qrcode"
      ],
      "metadata": {
        "id": "EsH8s0Y3yWS-"
      },
      "execution_count": null,
      "outputs": []
    },
    {
      "cell_type": "code",
      "source": [
        "import qrcode\n",
        "qr=qrcode.QRCode(\n",
        "    version=5,\n",
        "    box_size=5,\n",
        "    border=4\n",
        ")\n",
        "dados=\"https://colab.research.google.com/github/ErisonBarros/Repositorio_BR101/blob/erison.barros/Analise_Espacial_IVS_10X_Dens.ipynb#scrollTo=eQjxxsY-zHHo\"\n",
        "img=qrcode.make(dados)\n"
      ],
      "metadata": {
        "id": "eQjxxsY-zHHo"
      },
      "execution_count": null,
      "outputs": []
    },
    {
      "cell_type": "code",
      "source": [
        "img"
      ],
      "metadata": {
        "id": "HTjMdQiQzlUS",
        "outputId": "385f1ae7-8998-4a53-aa6e-cce29dba17ba",
        "colab": {
          "base_uri": "https://localhost:8080/",
          "height": 587
        }
      },
      "execution_count": null,
      "outputs": [
        {
          "output_type": "execute_result",
          "data": {
            "text/plain": [
              "<qrcode.image.pil.PilImage at 0x7fd3470d31d0>"
            ],
            "image/png": "[encoded data removed]"
          },
          "metadata": {},
          "execution_count": 29
        }
      ]
    },
    {
      "cell_type": "markdown",
      "source": [
        "# Nova seção"
      ],
      "metadata": {
        "id": "oSD43E326JGZ"
      }
    },
    {
      "cell_type": "markdown",
      "source": [
        "Imprenssão"
      ],
      "metadata": {
        "id": "rA0tx5IM5TR4"
      }
    },
    {
      "cell_type": "code",
      "source": [
        "%pprint"
      ],
      "metadata": {
        "id": "0ON3T36c5Pp3",
        "outputId": "c3cca928-a3ae-44bd-d9fd-49603ea8423b",
        "colab": {
          "base_uri": "https://localhost:8080/"
        }
      },
      "execution_count": null,
      "outputs": [
        {
          "output_type": "stream",
          "name": "stdout",
          "text": [
            "Pretty printing has been turned ON\n"
          ]
        }
      ]
    },
    {
      "cell_type": "markdown",
      "source": [
        "\n",
        "\n",
        "---\n",
        "\n"
      ],
      "metadata": {
        "id": "wP9IOYya4eTd"
      }
    },
    {
      "cell_type": "markdown",
      "source": [
        "https://github.com/ErisonBarros/Repositorio_BR101.git"
      ],
      "metadata": {
        "id": "Z-fEz07xOFA-"
      }
    },
    {
      "cell_type": "markdown",
      "source": [
        "\n",
        "\n",
        "---\n",
        "\n",
        "\n",
        "# Sumario\n",
        "\n",
        "1. [Introdução]()\n",
        "2. [Importação das Bibliotecas]()\n",
        "\n",
        "      2.1. [Instalação do Biblioteca  PySAL]()\n",
        "\n",
        "      2.2. [Instalação do Biblioteca Geopandas]()\n",
        "\n",
        "      2.3. [Verificação da Versão]()\n",
        "\n",
        "\n",
        "3. [Preparação dos Dados]()\n",
        "4. [Converter de Geopandas para Pandas (dataframe)]()\n",
        "5. [Ánalise Exploratória das Ocupações]()\n",
        "\n",
        "    5.1 [Histograma dos Dados]()\n",
        "\n",
        "    5.2 [Avaliação das Ocupações em Relação ao Classe de Cobertura e IVS de Renda]()\n",
        "\n",
        "    5.3 [Unir os poligogons dos dados censitários e limite municipal com as Ocupações Irregulares]()\n",
        "\n",
        "    5.4 [Analise Exploratória Espacial das Ocupações Irregulares de 2010]()\n",
        "\n",
        "4. [Conclusão](#Conclusão)\n",
        "\n",
        "\n",
        "\n",
        "\n",
        "---\n",
        "\n"
      ],
      "metadata": {
        "id": "7q4keeAROaL4"
      }
    },
    {
      "cell_type": "markdown",
      "source": [
        "# 1. Introdução\n",
        "Vou focar aqui nas análises espaciais feitas, e vou pular alguns tratamentos, descrevendo-os sucintamente durante a explicação. Se quiser ver os detalhes da implementação, acesse o notebook desta análise que está no meu git \n",
        "\n",
        "[Repositorio_BR101](https://github.com/ErisonBarros/Repositorio_BR101)\n",
        "\n",
        "Link:\n",
        "```\n",
        "https://github.com/ErisonBarros/Repositorio_BR101\n",
        "```\n",
        "\n",
        "\n",
        "\n"
      ],
      "metadata": {
        "id": "CbBWCTjCsGoU"
      }
    },
    {
      "cell_type": "markdown",
      "source": [
        "# 2. Importação de Bibliotecas"
      ],
      "metadata": {
        "id": "Mt4VyUy_BgUK"
      }
    },
    {
      "cell_type": "markdown",
      "source": [
        "## 2.1 Instalação do Biblioteca  PySAL"
      ],
      "metadata": {
        "id": "sGgcMwWHFMmz"
      }
    },
    {
      "cell_type": "markdown",
      "source": [
        "Em uma célula, instale o pacote PySAL com o comando:"
      ],
      "metadata": {
        "id": "RvxsMcPqrX6m"
      }
    },
    {
      "cell_type": "code",
      "execution_count": null,
      "metadata": {
        "id": "Qi27ySwerO4L"
      },
      "outputs": [],
      "source": [
        "!python -m pip install pysal"
      ]
    },
    {
      "cell_type": "markdown",
      "source": [
        "## 2.2. Instalar o geopandas\n",
        "Para ler o arquivo do tipo shape, utilizei um pacote chamado geopandas. Para instalá-lo, rode em uma célula:"
      ],
      "metadata": {
        "id": "ENvxDzKvr2y6"
      }
    },
    {
      "cell_type": "code",
      "source": [
        "!python -m pip install geopandas"
      ],
      "metadata": {
        "id": "Bc6fWc3Zr0o-"
      },
      "execution_count": null,
      "outputs": []
    },
    {
      "cell_type": "markdown",
      "source": [
        ""
      ],
      "metadata": {
        "id": "MCSq3KwOFgog"
      }
    },
    {
      "cell_type": "markdown",
      "source": [
        "## 2.3. Verificação da Versão"
      ],
      "metadata": {
        "id": "3xg6gim3Fmg7"
      }
    },
    {
      "cell_type": "markdown",
      "source": [
        "Após a instalação, verifique a versão com o comando:"
      ],
      "metadata": {
        "id": "hzK2Us42rn-f"
      }
    },
    {
      "cell_type": "code",
      "source": [
        "!python -m pip list"
      ],
      "metadata": {
        "id": "m0swuNRxrq1L"
      },
      "execution_count": null,
      "outputs": []
    },
    {
      "cell_type": "markdown",
      "source": [
        "## 3. Preparação dos Dados\n",
        "a) Importar os pacotes da biblioteca espacial PySAL:"
      ],
      "metadata": {
        "id": "O_o8I15PsOpp"
      }
    },
    {
      "cell_type": "code",
      "source": [
        "\n",
        "## Bibliotecas para tratamento de dados\n",
        "import os\n",
        "import sys\n",
        "import pandas as pd\n",
        "import numpy as np\n",
        "import matplotlib.pyplot as plt\n",
        "%matplotlib inline\n",
        "import glob\n",
        "\n",
        "## Geopandas: Utilizamos para conseguir ler arquivos do tipo Shape (.shp)\n",
        "import geopandas as gpd\n",
        "\n",
        "## Pacotes PySAL\n",
        "from libpysal.weights.contiguity import Queen\n",
        "from esda.moran import Moran, Moran_Local, Moran_BV, Moran_Local_BV\n",
        "from splot.esda import moran_scatterplot, plot_local_autocorrelation, lisa_cluster, plot_moran_bv"
      ],
      "metadata": {
        "id": "DOs7WFsUsGPV"
      },
      "execution_count": null,
      "outputs": []
    },
    {
      "cell_type": "markdown",
      "source": [
        "b) Carreguei o shapefile"
      ],
      "metadata": {
        "id": "tc6Y1BFHsgpz"
      }
    },
    {
      "cell_type": "code",
      "source": [
        "gdf = gpd.read_file('/content/drive/MyDrive/DATASET_BR101/Dataset_def.shp')\n",
        "gdf.plot()"
      ],
      "metadata": {
        "colab": {
          "base_uri": "https://localhost:8080/",
          "height": 293
        },
        "id": "xQasLdyUseFC",
        "outputId": "46b69805-40d0-4b4f-d0d8-8066a9ca11d6"
      },
      "execution_count": null,
      "outputs": [
        {
          "output_type": "execute_result",
          "data": {
            "text/plain": [
              "<matplotlib.axes._subplots.AxesSubplot at 0x7f48a8470390>"
            ]
          },
          "metadata": {},
          "execution_count": 5
        },
        {
          "output_type": "display_data",
          "data": {
            "text/plain": [
              "<Figure size 432x288 with 1 Axes>"
            ],
            "image/png": "[encoded data removed]"
          },
          "metadata": {
            "needs_background": "light"
          }
        }
      ]
    },
    {
      "cell_type": "markdown",
      "source": [
        "# Verificação das Variaveis"
      ],
      "metadata": {
        "id": "MolSBwTdGJXg"
      }
    },
    {
      "cell_type": "code",
      "source": [
        "gdf.head()"
      ],
      "metadata": {
        "colab": {
          "base_uri": "https://localhost:8080/",
          "height": 473
        },
        "id": "LpmC_nbStzqO",
        "outputId": "bda7b1e7-8ec2-4c3c-dce9-d493f4b2d4aa"
      },
      "execution_count": null,
      "outputs": [
        {
          "output_type": "execute_result",
          "data": {
            "text/plain": [
              "   POLY_ID   fid    REGIAO      MRT  VTN_med  VTN_minim   VTN_max  pop_urbana  \\\n",
              "0      1.0  16.0  MATA SUL  MRT III  8363.26    6089.32  10637.19        9.17   \n",
              "1      2.0  17.0  MATA SUL  MRT III  8363.26    6089.32  10637.19        9.17   \n",
              "2      3.0  18.0  MATA SUL  MRT III  8363.26    6089.32  10637.19        9.17   \n",
              "3      4.0  19.0  MATA SUL  MRT III  8363.26    6089.32  10637.19        9.17   \n",
              "4      5.0  20.0  MATA SUL  MRT III  8363.26    6089.32  10637.19        9.17   \n",
              "\n",
              "   pop_rural  pop_total  ...  NM_MUNICIP    CODMUN7   CODMUN6  CATEGORIES  \\\n",
              "0      4.923         14  ...       XEXÉU  2616506.0  261650.0         1.0   \n",
              "1      4.923         14  ...       XEXÉU  2616506.0  261650.0         1.0   \n",
              "2      4.923         14  ...       XEXÉU  2616506.0  261650.0         1.0   \n",
              "3      4.923         14  ...       XEXÉU  2616506.0  261650.0         1.0   \n",
              "4      4.923         14  ...       XEXÉU  2616506.0  261650.0         1.0   \n",
              "\n",
              "   SELECTED      PC1       PC2      PC3   CL                        geometry  \n",
              "0       0.0  0.85225 -3.110903  0.53429  7.0  POINT (210786.725 9018398.128)  \n",
              "1       0.0  0.85225 -3.110903  0.53429  7.0  POINT (210793.415 9018391.317)  \n",
              "2       0.0  0.85225 -3.110903  0.53429  7.0  POINT (210797.185 9018388.763)  \n",
              "3       0.0  0.85225 -3.110903  0.53429  7.0  POINT (210801.564 9018386.573)  \n",
              "4       0.0  0.85225 -3.110903  0.53429  7.0  POINT (210793.901 9018390.830)  \n",
              "\n",
              "[5 rows x 53 columns]"
            ],
            "text/html": [
              "\n",
              "  <div id=\"df-db59c2ad-e48d-4e15-bb6b-60df93182f71\">\n",
              "    <div class=\"colab-df-container\">\n",
              "      <div>\n",
              "<style scoped>\n",
              "    .dataframe tbody tr th:only-of-type {\n",
              "        vertical-align: middle;\n",
              "    }\n",
              "\n",
              "    .dataframe tbody tr th {\n",
              "        vertical-align: top;\n",
              "    }\n",
              "\n",
              "    .dataframe thead th {\n",
              "        text-align: right;\n",
              "    }\n",
              "</style>\n",
              "<table border=\"1\" class=\"dataframe\">\n",
              "  <thead>\n",
              "    <tr style=\"text-align: right;\">\n",
              "      <th></th>\n",
              "      <th>POLY_ID</th>\n",
              "      <th>fid</th>\n",
              "      <th>REGIAO</th>\n",
              "      <th>MRT</th>\n",
              "      <th>VTN_med</th>\n",
              "      <th>VTN_minim</th>\n",
              "      <th>VTN_max</th>\n",
              "      <th>pop_urbana</th>\n",
              "      <th>pop_rural</th>\n",
              "      <th>pop_total</th>\n",
              "      <th>...</th>\n",
              "      <th>NM_MUNICIP</th>\n",
              "      <th>CODMUN7</th>\n",
              "      <th>CODMUN6</th>\n",
              "      <th>CATEGORIES</th>\n",
              "      <th>SELECTED</th>\n",
              "      <th>PC1</th>\n",
              "      <th>PC2</th>\n",
              "      <th>PC3</th>\n",
              "      <th>CL</th>\n",
              "      <th>geometry</th>\n",
              "    </tr>\n",
              "  </thead>\n",
              "  <tbody>\n",
              "    <tr>\n",
              "      <th>0</th>\n",
              "      <td>1.0</td>\n",
              "      <td>16.0</td>\n",
              "      <td>MATA SUL</td>\n",
              "      <td>MRT III</td>\n",
              "      <td>8363.26</td>\n",
              "      <td>6089.32</td>\n",
              "      <td>10637.19</td>\n",
              "      <td>9.17</td>\n",
              "      <td>4.923</td>\n",
              "      <td>14</td>\n",
              "      <td>...</td>\n",
              "      <td>XEXÉU</td>\n",
              "      <td>2616506.0</td>\n",
              "      <td>261650.0</td>\n",
              "      <td>1.0</td>\n",
              "      <td>0.0</td>\n",
              "      <td>0.85225</td>\n",
              "      <td>-3.110903</td>\n",
              "      <td>0.53429</td>\n",
              "      <td>7.0</td>\n",
              "      <td>POINT (210786.725 9018398.128)</td>\n",
              "    </tr>\n",
              "    <tr>\n",
              "      <th>1</th>\n",
              "      <td>2.0</td>\n",
              "      <td>17.0</td>\n",
              "      <td>MATA SUL</td>\n",
              "      <td>MRT III</td>\n",
              "      <td>8363.26</td>\n",
              "      <td>6089.32</td>\n",
              "      <td>10637.19</td>\n",
              "      <td>9.17</td>\n",
              "      <td>4.923</td>\n",
              "      <td>14</td>\n",
              "      <td>...</td>\n",
              "      <td>XEXÉU</td>\n",
              "      <td>2616506.0</td>\n",
              "      <td>261650.0</td>\n",
              "      <td>1.0</td>\n",
              "      <td>0.0</td>\n",
              "      <td>0.85225</td>\n",
              "      <td>-3.110903</td>\n",
              "      <td>0.53429</td>\n",
              "      <td>7.0</td>\n",
              "      <td>POINT (210793.415 9018391.317)</td>\n",
              "    </tr>\n",
              "    <tr>\n",
              "      <th>2</th>\n",
              "      <td>3.0</td>\n",
              "      <td>18.0</td>\n",
              "      <td>MATA SUL</td>\n",
              "      <td>MRT III</td>\n",
              "      <td>8363.26</td>\n",
              "      <td>6089.32</td>\n",
              "      <td>10637.19</td>\n",
              "      <td>9.17</td>\n",
              "      <td>4.923</td>\n",
              "      <td>14</td>\n",
              "      <td>...</td>\n",
              "      <td>XEXÉU</td>\n",
              "      <td>2616506.0</td>\n",
              "      <td>261650.0</td>\n",
              "      <td>1.0</td>\n",
              "      <td>0.0</td>\n",
              "      <td>0.85225</td>\n",
              "      <td>-3.110903</td>\n",
              "      <td>0.53429</td>\n",
              "      <td>7.0</td>\n",
              "      <td>POINT (210797.185 9018388.763)</td>\n",
              "    </tr>\n",
              "    <tr>\n",
              "      <th>3</th>\n",
              "      <td>4.0</td>\n",
              "      <td>19.0</td>\n",
              "      <td>MATA SUL</td>\n",
              "      <td>MRT III</td>\n",
              "      <td>8363.26</td>\n",
              "      <td>6089.32</td>\n",
              "      <td>10637.19</td>\n",
              "      <td>9.17</td>\n",
              "      <td>4.923</td>\n",
              "      <td>14</td>\n",
              "      <td>...</td>\n",
              "      <td>XEXÉU</td>\n",
              "      <td>2616506.0</td>\n",
              "      <td>261650.0</td>\n",
              "      <td>1.0</td>\n",
              "      <td>0.0</td>\n",
              "      <td>0.85225</td>\n",
              "      <td>-3.110903</td>\n",
              "      <td>0.53429</td>\n",
              "      <td>7.0</td>\n",
              "      <td>POINT (210801.564 9018386.573)</td>\n",
              "    </tr>\n",
              "    <tr>\n",
              "      <th>4</th>\n",
              "      <td>5.0</td>\n",
              "      <td>20.0</td>\n",
              "      <td>MATA SUL</td>\n",
              "      <td>MRT III</td>\n",
              "      <td>8363.26</td>\n",
              "      <td>6089.32</td>\n",
              "      <td>10637.19</td>\n",
              "      <td>9.17</td>\n",
              "      <td>4.923</td>\n",
              "      <td>14</td>\n",
              "      <td>...</td>\n",
              "      <td>XEXÉU</td>\n",
              "      <td>2616506.0</td>\n",
              "      <td>261650.0</td>\n",
              "      <td>1.0</td>\n",
              "      <td>0.0</td>\n",
              "      <td>0.85225</td>\n",
              "      <td>-3.110903</td>\n",
              "      <td>0.53429</td>\n",
              "      <td>7.0</td>\n",
              "      <td>POINT (210793.901 9018390.830)</td>\n",
              "    </tr>\n",
              "  </tbody>\n",
              "</table>\n",
              "<p>5 rows × 53 columns</p>\n",
              "</div>\n",
              "      <button class=\"colab-df-convert\" onclick=\"convertToInteractive('df-db59c2ad-e48d-4e15-bb6b-60df93182f71')\"\n",
              "              title=\"Convert this dataframe to an interactive table.\"\n",
              "              style=\"display:none;\">\n",
              "        \n",
              "  <svg xmlns=\"http://www.w3.org/2000/svg\" height=\"24px\"viewBox=\"0 0 24 24\"\n",
              "       width=\"24px\">\n",
              "    <path d=\"M0 0h24v24H0V0z\" fill=\"none\"/>\n",
              "    <path d=\"M18.56 5.44l.94 2.06.94-2.06 2.06-.94-2.06-.94-.94-2.06-.94 2.06-2.06.94zm-11 1L8.5 8.5l.94-2.06 2.06-.94-2.06-.94L8.5 2.5l-.94 2.06-2.06.94zm10 10l.94 2.06.94-2.06 2.06-.94-2.06-.94-.94-2.06-.94 2.06-2.06.94z\"/><path d=\"M17.41 7.96l-1.37-1.37c-.4-.4-.92-.59-1.43-.59-.52 0-1.04.2-1.43.59L10.3 9.45l-7.72 7.72c-.78.78-.78 2.05 0 2.83L4 21.41c.39.39.9.59 1.41.59.51 0 1.02-.2 1.41-.59l7.78-7.78 2.81-2.81c.8-.78.8-2.07 0-2.86zM5.41 20L4 18.59l7.72-7.72 1.47 1.35L5.41 20z\"/>\n",
              "  </svg>\n",
              "      </button>\n",
              "      \n",
              "  <style>\n",
              "    .colab-df-container {\n",
              "      display:flex;\n",
              "      flex-wrap:wrap;\n",
              "      gap: 12px;\n",
              "    }\n",
              "\n",
              "    .colab-df-convert {\n",
              "      background-color: #E8F0FE;\n",
              "      border: none;\n",
              "      border-radius: 50%;\n",
              "      cursor: pointer;\n",
              "      display: none;\n",
              "      fill: #1967D2;\n",
              "      height: 32px;\n",
              "      padding: 0 0 0 0;\n",
              "      width: 32px;\n",
              "    }\n",
              "\n",
              "    .colab-df-convert:hover {\n",
              "      background-color: #E2EBFA;\n",
              "      box-shadow: 0px 1px 2px rgba(60, 64, 67, 0.3), 0px 1px 3px 1px rgba(60, 64, 67, 0.15);\n",
              "      fill: #174EA6;\n",
              "    }\n",
              "\n",
              "    [theme=dark] .colab-df-convert {\n",
              "      background-color: #3B4455;\n",
              "      fill: #D2E3FC;\n",
              "    }\n",
              "\n",
              "    [theme=dark] .colab-df-convert:hover {\n",
              "      background-color: #434B5C;\n",
              "      box-shadow: 0px 1px 3px 1px rgba(0, 0, 0, 0.15);\n",
              "      filter: drop-shadow(0px 1px 2px rgba(0, 0, 0, 0.3));\n",
              "      fill: #FFFFFF;\n",
              "    }\n",
              "  </style>\n",
              "\n",
              "      <script>\n",
              "        const buttonEl =\n",
              "          document.querySelector('#df-db59c2ad-e48d-4e15-bb6b-60df93182f71 button.colab-df-convert');\n",
              "        buttonEl.style.display =\n",
              "          google.colab.kernel.accessAllowed ? 'block' : 'none';\n",
              "\n",
              "        async function convertToInteractive(key) {\n",
              "          const element = document.querySelector('#df-db59c2ad-e48d-4e15-bb6b-60df93182f71');\n",
              "          const dataTable =\n",
              "            await google.colab.kernel.invokeFunction('convertToInteractive',\n",
              "                                                     [key], {});\n",
              "          if (!dataTable) return;\n",
              "\n",
              "          const docLinkHtml = 'Like what you see? Visit the ' +\n",
              "            '<a target=\"_blank\" href=https://colab.research.google.com/notebooks/data_table.ipynb>data table notebook</a>'\n",
              "            + ' to learn more about interactive tables.';\n",
              "          element.innerHTML = '';\n",
              "          dataTable['output_type'] = 'display_data';\n",
              "          await google.colab.output.renderOutput(dataTable, element);\n",
              "          const docLink = document.createElement('div');\n",
              "          docLink.innerHTML = docLinkHtml;\n",
              "          element.appendChild(docLink);\n",
              "        }\n",
              "      </script>\n",
              "    </div>\n",
              "  </div>\n",
              "  "
            ]
          },
          "metadata": {},
          "execution_count": 57
        }
      ]
    },
    {
      "cell_type": "markdown",
      "source": [
        "Verificação das Colunas Importadas"
      ],
      "metadata": {
        "id": "NZzybHTZ6EKb"
      }
    },
    {
      "cell_type": "code",
      "source": [
        "gdf.columns"
      ],
      "metadata": {
        "colab": {
          "base_uri": "https://localhost:8080/"
        },
        "id": "vizl1U5jCDH7",
        "outputId": "8590c7aa-755f-4c82-ded9-af329feb66b2"
      },
      "execution_count": null,
      "outputs": [
        {
          "output_type": "execute_result",
          "data": {
            "text/plain": [
              "Index(['POLY_ID', 'fid', 'REGIAO', 'MRT', 'VTN_med', 'VTN_minim', 'VTN_max',\n",
              "       'pop_urbana', 'pop_rural', 'pop_total', 'area', 'dens', 'tax_Urban',\n",
              "       'IVS_10', 'IVS_INF10', 'IVS_CAP10', 'IVS_REN10', 'IVS_00', 'IVS_INFR00',\n",
              "       'IVS_CAPH00', 'IVS_REN00', 'uso_18', 'uso_10', 'uso_00', 'E', 'N',\n",
              "       'v22_10', 'v21_10', 'v8_10', 'v7_10', 'v5_10', 'v4_10', 'v3_10',\n",
              "       'v1_10', 'mmpr_10', 'palfap_10', 'palfac_10', 'lixo_10', 'esg_10',\n",
              "       'agua_10', 'join_Layer', 'distance', 'Densiadde_', 'NM_MUNICIP',\n",
              "       'CODMUN7', 'CODMUN6', 'CATEGORIES', 'SELECTED', 'PC1', 'PC2', 'PC3',\n",
              "       'CL', 'geometry'],\n",
              "      dtype='object')"
            ]
          },
          "metadata": {},
          "execution_count": 47
        }
      ]
    },
    {
      "cell_type": "markdown",
      "source": [
        "Verificação do Tipo de Dado"
      ],
      "metadata": {
        "id": "76O3Oo_d6LB6"
      }
    },
    {
      "cell_type": "code",
      "source": [
        "type(gdf)"
      ],
      "metadata": {
        "colab": {
          "base_uri": "https://localhost:8080/"
        },
        "id": "ee5OESUSEMU8",
        "outputId": "e46ea78d-614f-4419-ba19-816b5502127f"
      },
      "execution_count": null,
      "outputs": [
        {
          "output_type": "execute_result",
          "data": {
            "text/plain": [
              "geopandas.geodataframe.GeoDataFrame"
            ]
          },
          "metadata": {},
          "execution_count": 52
        }
      ]
    },
    {
      "cell_type": "markdown",
      "source": [
        "# Converter de Geopandas  para Pandas (dataframe)"
      ],
      "metadata": {
        "id": "WtbXDmReGGwd"
      }
    },
    {
      "cell_type": "markdown",
      "source": [
        "Verificando quais colunas serão trabalhadas"
      ],
      "metadata": {
        "id": "bYZxBBes6R4p"
      }
    },
    {
      "cell_type": "code",
      "source": [
        "df1 = pd.DataFrame(gdf)"
      ],
      "metadata": {
        "id": "OFWzR5KBGArg"
      },
      "execution_count": null,
      "outputs": []
    },
    {
      "cell_type": "code",
      "source": [
        "df1.columns"
      ],
      "metadata": {
        "colab": {
          "base_uri": "https://localhost:8080/"
        },
        "id": "msI5bNiBGllP",
        "outputId": "1e7ec5a1-d691-4c3d-88d1-47aa09584af5"
      },
      "execution_count": null,
      "outputs": [
        {
          "output_type": "execute_result",
          "data": {
            "text/plain": [
              "Index(['POLY_ID', 'fid', 'REGIAO', 'MRT', 'VTN_med', 'VTN_minim', 'VTN_max',\n",
              "       'pop_urbana', 'pop_rural', 'pop_total', 'area', 'dens', 'tax_Urban',\n",
              "       'IVS_10', 'IVS_INF10', 'IVS_CAP10', 'IVS_REN10', 'IVS_00', 'IVS_INFR00',\n",
              "       'IVS_CAPH00', 'IVS_REN00', 'uso_18', 'uso_10', 'uso_00', 'E', 'N',\n",
              "       'v22_10', 'v21_10', 'v8_10', 'v7_10', 'v5_10', 'v4_10', 'v3_10',\n",
              "       'v1_10', 'mmpr_10', 'palfap_10', 'palfac_10', 'lixo_10', 'esg_10',\n",
              "       'agua_10', 'join_Layer', 'distance', 'Densiadde_', 'NM_MUNICIP',\n",
              "       'CODMUN7', 'CODMUN6', 'CATEGORIES', 'SELECTED', 'PC1', 'PC2', 'PC3',\n",
              "       'CL', 'geometry'],\n",
              "      dtype='object')"
            ]
          },
          "metadata": {},
          "execution_count": 62
        }
      ]
    },
    {
      "cell_type": "code",
      "source": [
        "df1=df1[['fid', 'REGIAO', 'MRT', 'VTN_med', 'VTN_minim', 'VTN_max',\n",
        "       'pop_urbana', 'pop_rural', 'pop_total', 'area', 'dens', 'tax_Urban',\n",
        "       'IVS_10', 'IVS_INF10', 'IVS_CAP10', 'IVS_REN10', 'IVS_00', 'IVS_INFR00',\n",
        "       'IVS_CAPH00', 'IVS_REN00', 'uso_18', 'uso_10', 'uso_00', 'E', 'N'\n",
        "       ]]"
      ],
      "metadata": {
        "id": "Celjpcs-HVtC"
      },
      "execution_count": null,
      "outputs": []
    },
    {
      "cell_type": "code",
      "source": [
        "df1.head()"
      ],
      "metadata": {
        "colab": {
          "base_uri": "https://localhost:8080/",
          "height": 386
        },
        "id": "7FDwwfimHwwy",
        "outputId": "4d0ca86f-2014-45ad-8f91-46bb16087e70"
      },
      "execution_count": null,
      "outputs": [
        {
          "output_type": "execute_result",
          "data": {
            "text/plain": [
              "    fid    REGIAO      MRT  VTN_med  VTN_minim   VTN_max  pop_urbana  \\\n",
              "0  16.0  MATA SUL  MRT III  8363.26    6089.32  10637.19        9.17   \n",
              "1  17.0  MATA SUL  MRT III  8363.26    6089.32  10637.19        9.17   \n",
              "2  18.0  MATA SUL  MRT III  8363.26    6089.32  10637.19        9.17   \n",
              "3  19.0  MATA SUL  MRT III  8363.26    6089.32  10637.19        9.17   \n",
              "4  20.0  MATA SUL  MRT III  8363.26    6089.32  10637.19        9.17   \n",
              "\n",
              "   pop_rural  pop_total   area  ...  IVS_REN10  IVS_00  IVS_INFR00  \\\n",
              "0      4.923         14  111.0  ...      0.637   0.732       0.518   \n",
              "1      4.923         14  111.0  ...      0.637   0.732       0.518   \n",
              "2      4.923         14  111.0  ...      0.637   0.732       0.518   \n",
              "3      4.923         14  111.0  ...      0.637   0.732       0.518   \n",
              "4      4.923         14  111.0  ...      0.637   0.732       0.518   \n",
              "\n",
              "   IVS_CAPH00  IVS_REN00  uso_18  uso_10  uso_00              E             N  \n",
              "0       0.896      0.782     3.0     3.0     3.0  210786.724863  9.018398e+06  \n",
              "1       0.896      0.782     3.0     3.0     3.0  210793.414701  9.018391e+06  \n",
              "2       0.896      0.782     3.0     3.0     3.0  210797.185338  9.018389e+06  \n",
              "3       0.896      0.782     3.0     3.0     3.0  210801.564141  9.018387e+06  \n",
              "4       0.896      0.782     3.0     3.0     3.0  210793.901235  9.018391e+06  \n",
              "\n",
              "[5 rows x 25 columns]"
            ],
            "text/html": [
              "\n",
              "  <div id=\"df-08c7eecc-d43f-4771-8536-bc6b605367dc\">\n",
              "    <div class=\"colab-df-container\">\n",
              "      <div>\n",
              "<style scoped>\n",
              "    .dataframe tbody tr th:only-of-type {\n",
              "        vertical-align: middle;\n",
              "    }\n",
              "\n",
              "    .dataframe tbody tr th {\n",
              "        vertical-align: top;\n",
              "    }\n",
              "\n",
              "    .dataframe thead th {\n",
              "        text-align: right;\n",
              "    }\n",
              "</style>\n",
              "<table border=\"1\" class=\"dataframe\">\n",
              "  <thead>\n",
              "    <tr style=\"text-align: right;\">\n",
              "      <th></th>\n",
              "      <th>fid</th>\n",
              "      <th>REGIAO</th>\n",
              "      <th>MRT</th>\n",
              "      <th>VTN_med</th>\n",
              "      <th>VTN_minim</th>\n",
              "      <th>VTN_max</th>\n",
              "      <th>pop_urbana</th>\n",
              "      <th>pop_rural</th>\n",
              "      <th>pop_total</th>\n",
              "      <th>area</th>\n",
              "      <th>...</th>\n",
              "      <th>IVS_REN10</th>\n",
              "      <th>IVS_00</th>\n",
              "      <th>IVS_INFR00</th>\n",
              "      <th>IVS_CAPH00</th>\n",
              "      <th>IVS_REN00</th>\n",
              "      <th>uso_18</th>\n",
              "      <th>uso_10</th>\n",
              "      <th>uso_00</th>\n",
              "      <th>E</th>\n",
              "      <th>N</th>\n",
              "    </tr>\n",
              "  </thead>\n",
              "  <tbody>\n",
              "    <tr>\n",
              "      <th>0</th>\n",
              "      <td>16.0</td>\n",
              "      <td>MATA SUL</td>\n",
              "      <td>MRT III</td>\n",
              "      <td>8363.26</td>\n",
              "      <td>6089.32</td>\n",
              "      <td>10637.19</td>\n",
              "      <td>9.17</td>\n",
              "      <td>4.923</td>\n",
              "      <td>14</td>\n",
              "      <td>111.0</td>\n",
              "      <td>...</td>\n",
              "      <td>0.637</td>\n",
              "      <td>0.732</td>\n",
              "      <td>0.518</td>\n",
              "      <td>0.896</td>\n",
              "      <td>0.782</td>\n",
              "      <td>3.0</td>\n",
              "      <td>3.0</td>\n",
              "      <td>3.0</td>\n",
              "      <td>210786.724863</td>\n",
              "      <td>9.018398e+06</td>\n",
              "    </tr>\n",
              "    <tr>\n",
              "      <th>1</th>\n",
              "      <td>17.0</td>\n",
              "      <td>MATA SUL</td>\n",
              "      <td>MRT III</td>\n",
              "      <td>8363.26</td>\n",
              "      <td>6089.32</td>\n",
              "      <td>10637.19</td>\n",
              "      <td>9.17</td>\n",
              "      <td>4.923</td>\n",
              "      <td>14</td>\n",
              "      <td>111.0</td>\n",
              "      <td>...</td>\n",
              "      <td>0.637</td>\n",
              "      <td>0.732</td>\n",
              "      <td>0.518</td>\n",
              "      <td>0.896</td>\n",
              "      <td>0.782</td>\n",
              "      <td>3.0</td>\n",
              "      <td>3.0</td>\n",
              "      <td>3.0</td>\n",
              "      <td>210793.414701</td>\n",
              "      <td>9.018391e+06</td>\n",
              "    </tr>\n",
              "    <tr>\n",
              "      <th>2</th>\n",
              "      <td>18.0</td>\n",
              "      <td>MATA SUL</td>\n",
              "      <td>MRT III</td>\n",
              "      <td>8363.26</td>\n",
              "      <td>6089.32</td>\n",
              "      <td>10637.19</td>\n",
              "      <td>9.17</td>\n",
              "      <td>4.923</td>\n",
              "      <td>14</td>\n",
              "      <td>111.0</td>\n",
              "      <td>...</td>\n",
              "      <td>0.637</td>\n",
              "      <td>0.732</td>\n",
              "      <td>0.518</td>\n",
              "      <td>0.896</td>\n",
              "      <td>0.782</td>\n",
              "      <td>3.0</td>\n",
              "      <td>3.0</td>\n",
              "      <td>3.0</td>\n",
              "      <td>210797.185338</td>\n",
              "      <td>9.018389e+06</td>\n",
              "    </tr>\n",
              "    <tr>\n",
              "      <th>3</th>\n",
              "      <td>19.0</td>\n",
              "      <td>MATA SUL</td>\n",
              "      <td>MRT III</td>\n",
              "      <td>8363.26</td>\n",
              "      <td>6089.32</td>\n",
              "      <td>10637.19</td>\n",
              "      <td>9.17</td>\n",
              "      <td>4.923</td>\n",
              "      <td>14</td>\n",
              "      <td>111.0</td>\n",
              "      <td>...</td>\n",
              "      <td>0.637</td>\n",
              "      <td>0.732</td>\n",
              "      <td>0.518</td>\n",
              "      <td>0.896</td>\n",
              "      <td>0.782</td>\n",
              "      <td>3.0</td>\n",
              "      <td>3.0</td>\n",
              "      <td>3.0</td>\n",
              "      <td>210801.564141</td>\n",
              "      <td>9.018387e+06</td>\n",
              "    </tr>\n",
              "    <tr>\n",
              "      <th>4</th>\n",
              "      <td>20.0</td>\n",
              "      <td>MATA SUL</td>\n",
              "      <td>MRT III</td>\n",
              "      <td>8363.26</td>\n",
              "      <td>6089.32</td>\n",
              "      <td>10637.19</td>\n",
              "      <td>9.17</td>\n",
              "      <td>4.923</td>\n",
              "      <td>14</td>\n",
              "      <td>111.0</td>\n",
              "      <td>...</td>\n",
              "      <td>0.637</td>\n",
              "      <td>0.732</td>\n",
              "      <td>0.518</td>\n",
              "      <td>0.896</td>\n",
              "      <td>0.782</td>\n",
              "      <td>3.0</td>\n",
              "      <td>3.0</td>\n",
              "      <td>3.0</td>\n",
              "      <td>210793.901235</td>\n",
              "      <td>9.018391e+06</td>\n",
              "    </tr>\n",
              "  </tbody>\n",
              "</table>\n",
              "<p>5 rows × 25 columns</p>\n",
              "</div>\n",
              "      <button class=\"colab-df-convert\" onclick=\"convertToInteractive('df-08c7eecc-d43f-4771-8536-bc6b605367dc')\"\n",
              "              title=\"Convert this dataframe to an interactive table.\"\n",
              "              style=\"display:none;\">\n",
              "        \n",
              "  <svg xmlns=\"http://www.w3.org/2000/svg\" height=\"24px\"viewBox=\"0 0 24 24\"\n",
              "       width=\"24px\">\n",
              "    <path d=\"M0 0h24v24H0V0z\" fill=\"none\"/>\n",
              "    <path d=\"M18.56 5.44l.94 2.06.94-2.06 2.06-.94-2.06-.94-.94-2.06-.94 2.06-2.06.94zm-11 1L8.5 8.5l.94-2.06 2.06-.94-2.06-.94L8.5 2.5l-.94 2.06-2.06.94zm10 10l.94 2.06.94-2.06 2.06-.94-2.06-.94-.94-2.06-.94 2.06-2.06.94z\"/><path d=\"M17.41 7.96l-1.37-1.37c-.4-.4-.92-.59-1.43-.59-.52 0-1.04.2-1.43.59L10.3 9.45l-7.72 7.72c-.78.78-.78 2.05 0 2.83L4 21.41c.39.39.9.59 1.41.59.51 0 1.02-.2 1.41-.59l7.78-7.78 2.81-2.81c.8-.78.8-2.07 0-2.86zM5.41 20L4 18.59l7.72-7.72 1.47 1.35L5.41 20z\"/>\n",
              "  </svg>\n",
              "      </button>\n",
              "      \n",
              "  <style>\n",
              "    .colab-df-container {\n",
              "      display:flex;\n",
              "      flex-wrap:wrap;\n",
              "      gap: 12px;\n",
              "    }\n",
              "\n",
              "    .colab-df-convert {\n",
              "      background-color: #E8F0FE;\n",
              "      border: none;\n",
              "      border-radius: 50%;\n",
              "      cursor: pointer;\n",
              "      display: none;\n",
              "      fill: #1967D2;\n",
              "      height: 32px;\n",
              "      padding: 0 0 0 0;\n",
              "      width: 32px;\n",
              "    }\n",
              "\n",
              "    .colab-df-convert:hover {\n",
              "      background-color: #E2EBFA;\n",
              "      box-shadow: 0px 1px 2px rgba(60, 64, 67, 0.3), 0px 1px 3px 1px rgba(60, 64, 67, 0.15);\n",
              "      fill: #174EA6;\n",
              "    }\n",
              "\n",
              "    [theme=dark] .colab-df-convert {\n",
              "      background-color: #3B4455;\n",
              "      fill: #D2E3FC;\n",
              "    }\n",
              "\n",
              "    [theme=dark] .colab-df-convert:hover {\n",
              "      background-color: #434B5C;\n",
              "      box-shadow: 0px 1px 3px 1px rgba(0, 0, 0, 0.15);\n",
              "      filter: drop-shadow(0px 1px 2px rgba(0, 0, 0, 0.3));\n",
              "      fill: #FFFFFF;\n",
              "    }\n",
              "  </style>\n",
              "\n",
              "      <script>\n",
              "        const buttonEl =\n",
              "          document.querySelector('#df-08c7eecc-d43f-4771-8536-bc6b605367dc button.colab-df-convert');\n",
              "        buttonEl.style.display =\n",
              "          google.colab.kernel.accessAllowed ? 'block' : 'none';\n",
              "\n",
              "        async function convertToInteractive(key) {\n",
              "          const element = document.querySelector('#df-08c7eecc-d43f-4771-8536-bc6b605367dc');\n",
              "          const dataTable =\n",
              "            await google.colab.kernel.invokeFunction('convertToInteractive',\n",
              "                                                     [key], {});\n",
              "          if (!dataTable) return;\n",
              "\n",
              "          const docLinkHtml = 'Like what you see? Visit the ' +\n",
              "            '<a target=\"_blank\" href=https://colab.research.google.com/notebooks/data_table.ipynb>data table notebook</a>'\n",
              "            + ' to learn more about interactive tables.';\n",
              "          element.innerHTML = '';\n",
              "          dataTable['output_type'] = 'display_data';\n",
              "          await google.colab.output.renderOutput(dataTable, element);\n",
              "          const docLink = document.createElement('div');\n",
              "          docLink.innerHTML = docLinkHtml;\n",
              "          element.appendChild(docLink);\n",
              "        }\n",
              "      </script>\n",
              "    </div>\n",
              "  </div>\n",
              "  "
            ]
          },
          "metadata": {},
          "execution_count": 75
        }
      ]
    },
    {
      "cell_type": "markdown",
      "source": [
        "# 5. Ánalise Exploratória das Ocupações"
      ],
      "metadata": {
        "id": "90Fe61-IGp6I"
      }
    },
    {
      "cell_type": "markdown",
      "source": [
        "## 5.1  Histograma dos Dados"
      ],
      "metadata": {
        "id": "r5nvOOGD6bhD"
      }
    },
    {
      "cell_type": "markdown",
      "source": [
        "## Ocupações em Relação ao USO e cobertura em 2000"
      ],
      "metadata": {
        "id": "RlMUbgkm6jV7"
      }
    },
    {
      "cell_type": "markdown",
      "source": [
        ""
      ],
      "metadata": {
        "id": "DvKzk_MiG_TA"
      }
    },
    {
      "cell_type": "code",
      "source": [
        "df1.uso_00.hist()"
      ],
      "metadata": {
        "colab": {
          "base_uri": "https://localhost:8080/",
          "height": 282
        },
        "id": "fyayKOzhIC_1",
        "outputId": "14c9c1b3-3468-4411-fb71-429386fb5a1d"
      },
      "execution_count": null,
      "outputs": [
        {
          "output_type": "execute_result",
          "data": {
            "text/plain": [
              "<matplotlib.axes._subplots.AxesSubplot at 0x7f48a7a00b10>"
            ]
          },
          "metadata": {},
          "execution_count": 77
        },
        {
          "output_type": "display_data",
          "data": {
            "text/plain": [
              "<Figure size 432x288 with 1 Axes>"
            ],
            "image/png": "[encoded data removed]"
          },
          "metadata": {
            "needs_background": "light"
          }
        }
      ]
    },
    {
      "cell_type": "markdown",
      "source": [
        "## Ocupações em Relação ao USO e cobertura em 2010"
      ],
      "metadata": {
        "id": "qthQqR9e6u2N"
      }
    },
    {
      "cell_type": "code",
      "source": [
        "df1.uso_10.hist()"
      ],
      "metadata": {
        "colab": {
          "base_uri": "https://localhost:8080/",
          "height": 282
        },
        "id": "kP8CGJ6PIcFk",
        "outputId": "bad854f6-4e7d-4132-9d81-76c1d9178939"
      },
      "execution_count": null,
      "outputs": [
        {
          "output_type": "execute_result",
          "data": {
            "text/plain": [
              "<matplotlib.axes._subplots.AxesSubplot at 0x7f48a79a5bd0>"
            ]
          },
          "metadata": {},
          "execution_count": 78
        },
        {
          "output_type": "display_data",
          "data": {
            "text/plain": [
              "<Figure size 432x288 with 1 Axes>"
            ],
            "image/png": "[encoded data removed]"
          },
          "metadata": {
            "needs_background": "light"
          }
        }
      ]
    },
    {
      "cell_type": "markdown",
      "source": [
        "## Ocupações em Relação ao USO e cobertura em 2018"
      ],
      "metadata": {
        "id": "s6vf7zpp62-j"
      }
    },
    {
      "cell_type": "code",
      "source": [
        "df1.uso_18.hist()"
      ],
      "metadata": {
        "colab": {
          "base_uri": "https://localhost:8080/",
          "height": 282
        },
        "id": "Zu41xkBwInNW",
        "outputId": "b28df936-72d1-472e-d883-5a07e7c8b656"
      },
      "execution_count": null,
      "outputs": [
        {
          "output_type": "execute_result",
          "data": {
            "text/plain": [
              "<matplotlib.axes._subplots.AxesSubplot at 0x7f48a79ac350>"
            ]
          },
          "metadata": {},
          "execution_count": 79
        },
        {
          "output_type": "display_data",
          "data": {
            "text/plain": [
              "<Figure size 432x288 with 1 Axes>"
            ],
            "image/png": "[encoded data removed]"
          },
          "metadata": {
            "needs_background": "light"
          }
        }
      ]
    },
    {
      "cell_type": "markdown",
      "source": [
        "##  Avaliação das Ocupações em Relação ao Classe de Cobertura e IVS de Renda"
      ],
      "metadata": {
        "id": "hmKvjd8y685D"
      }
    },
    {
      "cell_type": "code",
      "source": [
        "import seaborn as sns\n",
        "sns.set_theme(style=\"whitegrid\")\n",
        "tips = sns.load_dataset(\"tips\")\n",
        "ax = sns.barplot(x=\"uso_10\", y=\"IVS_REN10\", data=df1)"
      ],
      "metadata": {
        "colab": {
          "base_uri": "https://localhost:8080/",
          "height": 285
        },
        "id": "wJPF5_GiIye-",
        "outputId": "17e9205d-eee3-4c09-998b-f39f70f655ac"
      },
      "execution_count": null,
      "outputs": [
        {
          "output_type": "display_data",
          "data": {
            "text/plain": [
              "<Figure size 432x288 with 1 Axes>"
            ],
            "image/png": "[encoded data removed]"
          },
          "metadata": {}
        }
      ]
    },
    {
      "cell_type": "markdown",
      "source": [
        "# Visualização Espacial das Ocupações"
      ],
      "metadata": {
        "id": "Nt1eKnjD7TKj"
      }
    },
    {
      "cell_type": "code",
      "source": [
        "from google.colab import drive\n",
        "drive.mount('/content/drive')"
      ],
      "metadata": {
        "id": "hIjLBFnYPdYi"
      },
      "execution_count": null,
      "outputs": []
    },
    {
      "cell_type": "code",
      "source": [
        "from numpy.ma.core import size\n",
        "ocup = gpd.read_file('/content/drive/MyDrive/DATASET_BR101/Dataset_def.shp')\n",
        "ocup.plot()"
      ],
      "metadata": {
        "colab": {
          "base_uri": "https://localhost:8080/",
          "height": 293
        },
        "id": "n2xVKlNSyrq3",
        "outputId": "b35936e2-d909-4fc6-c804-3e483c1b39e9"
      },
      "execution_count": null,
      "outputs": [
        {
          "output_type": "execute_result",
          "data": {
            "text/plain": [
              "<matplotlib.axes._subplots.AxesSubplot at 0x7f48a839f550>"
            ]
          },
          "metadata": {},
          "execution_count": 9
        },
        {
          "output_type": "display_data",
          "data": {
            "text/plain": [
              "<Figure size 432x288 with 1 Axes>"
            ],
            "image/png": "[encoded data removed]"
          },
          "metadata": {
            "needs_background": "light"
          }
        }
      ]
    },
    {
      "cell_type": "code",
      "source": [
        "ocup.describe()"
      ],
      "metadata": {
        "colab": {
          "base_uri": "https://localhost:8080/",
          "height": 394
        },
        "id": "eZMYANoh2z2c",
        "outputId": "d708d23d-3320-4b2c-95e3-e51bd124b59a"
      },
      "execution_count": null,
      "outputs": [
        {
          "output_type": "execute_result",
          "data": {
            "text/plain": [
              "          POLY_ID          fid       VTN_med    VTN_minim       VTN_max  \\\n",
              "count  7112.00000  7112.000000   7112.000000  7112.000000   7112.000000   \n",
              "mean   3556.50000  3576.490157  14971.744961  7594.459843  22349.029066   \n",
              "std    2053.20189  2053.218917   2218.095832   505.190589   3931.004091   \n",
              "min       1.00000    16.000000   8363.260000  6089.320000  10637.190000   \n",
              "25%    1778.75000  1798.750000  15716.130000  7764.000000  23668.260000   \n",
              "50%    3556.50000  3576.500000  15716.130000  7764.000000  23668.260000   \n",
              "75%    5334.25000  5354.250000  15716.130000  7764.000000  23668.260000   \n",
              "max    7112.00000  7132.000000  15716.130000  7764.000000  23668.260000   \n",
              "\n",
              "        pop_urbana    pop_rural    pop_total         area         dens  ...  \\\n",
              "count  7112.000000  7112.000000  7112.000000  7112.000000  7112.000000  ...   \n",
              "mean    863.013384     4.794870   867.945163   244.621161  1889.246066  ...   \n",
              "std     701.666450     5.994344   697.032958    93.111174   937.310492  ...   \n",
              "min       9.170000     0.000000    14.000000    73.900000   150.720000  ...   \n",
              "25%      93.931000     0.000000   102.000000   217.800000   724.900000  ...   \n",
              "50%    1537.704000     0.000000  1538.000000   217.800000  2493.060000  ...   \n",
              "75%    1537.704000     8.090000  1538.000000   302.900000  2493.060000  ...   \n",
              "max    1537.704000    20.918000  1538.000000   543.000000  2493.060000  ...   \n",
              "\n",
              "          distance    Densiadde_       CODMUN7        CODMUN6  CATEGORIES  \\\n",
              "count  7112.000000   7112.000000  7.092000e+03    7092.000000      7112.0   \n",
              "mean     72.103624   5259.786372  2.608792e+06  260878.678793         1.0   \n",
              "std     124.976456   4455.648101  3.898722e+03     389.756580         0.0   \n",
              "min       0.779650      2.344050  2.600054e+06  260005.000000         1.0   \n",
              "25%      33.132886   1690.851070  2.606804e+06  260680.000000         1.0   \n",
              "50%      42.405936   3551.629640  2.611606e+06  261160.000000         1.0   \n",
              "75%      54.201682   9637.294920  2.611606e+06  261160.000000         1.0   \n",
              "max    1078.016655  14008.902340  2.616506e+06  261650.000000         1.0   \n",
              "\n",
              "       SELECTED           PC1           PC2           PC3           CL  \n",
              "count    7112.0  7.112000e+03  7.112000e+03  7.112000e+03  7112.000000  \n",
              "mean        0.0  1.315794e-08  3.904222e-08  4.695374e-08     2.931243  \n",
              "std         0.0  1.971929e+00  1.146489e+00  9.835109e-01     1.723438  \n",
              "min         0.0 -1.469567e+01 -5.599160e+00 -4.422359e+00     1.000000  \n",
              "25%         0.0  1.695634e-01 -3.195566e-01 -4.052095e-01     1.000000  \n",
              "50%         0.0  5.933316e-01  5.792282e-01  6.354804e-01     3.000000  \n",
              "75%         0.0  5.933316e-01  5.792282e-01  6.354804e-01     4.000000  \n",
              "max         0.0  3.918216e+00  9.683645e-01  2.089046e+00     7.000000  \n",
              "\n",
              "[8 rows x 48 columns]"
            ],
            "text/html": [
              "\n",
              "  <div id=\"df-6aeea72f-075b-499d-9426-a7c7b395b033\">\n",
              "    <div class=\"colab-df-container\">\n",
              "      <div>\n",
              "<style scoped>\n",
              "    .dataframe tbody tr th:only-of-type {\n",
              "        vertical-align: middle;\n",
              "    }\n",
              "\n",
              "    .dataframe tbody tr th {\n",
              "        vertical-align: top;\n",
              "    }\n",
              "\n",
              "    .dataframe thead th {\n",
              "        text-align: right;\n",
              "    }\n",
              "</style>\n",
              "<table border=\"1\" class=\"dataframe\">\n",
              "  <thead>\n",
              "    <tr style=\"text-align: right;\">\n",
              "      <th></th>\n",
              "      <th>POLY_ID</th>\n",
              "      <th>fid</th>\n",
              "      <th>VTN_med</th>\n",
              "      <th>VTN_minim</th>\n",
              "      <th>VTN_max</th>\n",
              "      <th>pop_urbana</th>\n",
              "      <th>pop_rural</th>\n",
              "      <th>pop_total</th>\n",
              "      <th>area</th>\n",
              "      <th>dens</th>\n",
              "      <th>...</th>\n",
              "      <th>distance</th>\n",
              "      <th>Densiadde_</th>\n",
              "      <th>CODMUN7</th>\n",
              "      <th>CODMUN6</th>\n",
              "      <th>CATEGORIES</th>\n",
              "      <th>SELECTED</th>\n",
              "      <th>PC1</th>\n",
              "      <th>PC2</th>\n",
              "      <th>PC3</th>\n",
              "      <th>CL</th>\n",
              "    </tr>\n",
              "  </thead>\n",
              "  <tbody>\n",
              "    <tr>\n",
              "      <th>count</th>\n",
              "      <td>7112.00000</td>\n",
              "      <td>7112.000000</td>\n",
              "      <td>7112.000000</td>\n",
              "      <td>7112.000000</td>\n",
              "      <td>7112.000000</td>\n",
              "      <td>7112.000000</td>\n",
              "      <td>7112.000000</td>\n",
              "      <td>7112.000000</td>\n",
              "      <td>7112.000000</td>\n",
              "      <td>7112.000000</td>\n",
              "      <td>...</td>\n",
              "      <td>7112.000000</td>\n",
              "      <td>7112.000000</td>\n",
              "      <td>7.092000e+03</td>\n",
              "      <td>7092.000000</td>\n",
              "      <td>7112.0</td>\n",
              "      <td>7112.0</td>\n",
              "      <td>7.112000e+03</td>\n",
              "      <td>7.112000e+03</td>\n",
              "      <td>7.112000e+03</td>\n",
              "      <td>7112.000000</td>\n",
              "    </tr>\n",
              "    <tr>\n",
              "      <th>mean</th>\n",
              "      <td>3556.50000</td>\n",
              "      <td>3576.490157</td>\n",
              "      <td>14971.744961</td>\n",
              "      <td>7594.459843</td>\n",
              "      <td>22349.029066</td>\n",
              "      <td>863.013384</td>\n",
              "      <td>4.794870</td>\n",
              "      <td>867.945163</td>\n",
              "      <td>244.621161</td>\n",
              "      <td>1889.246066</td>\n",
              "      <td>...</td>\n",
              "      <td>72.103624</td>\n",
              "      <td>5259.786372</td>\n",
              "      <td>2.608792e+06</td>\n",
              "      <td>260878.678793</td>\n",
              "      <td>1.0</td>\n",
              "      <td>0.0</td>\n",
              "      <td>1.315794e-08</td>\n",
              "      <td>3.904222e-08</td>\n",
              "      <td>4.695374e-08</td>\n",
              "      <td>2.931243</td>\n",
              "    </tr>\n",
              "    <tr>\n",
              "      <th>std</th>\n",
              "      <td>2053.20189</td>\n",
              "      <td>2053.218917</td>\n",
              "      <td>2218.095832</td>\n",
              "      <td>505.190589</td>\n",
              "      <td>3931.004091</td>\n",
              "      <td>701.666450</td>\n",
              "      <td>5.994344</td>\n",
              "      <td>697.032958</td>\n",
              "      <td>93.111174</td>\n",
              "      <td>937.310492</td>\n",
              "      <td>...</td>\n",
              "      <td>124.976456</td>\n",
              "      <td>4455.648101</td>\n",
              "      <td>3.898722e+03</td>\n",
              "      <td>389.756580</td>\n",
              "      <td>0.0</td>\n",
              "      <td>0.0</td>\n",
              "      <td>1.971929e+00</td>\n",
              "      <td>1.146489e+00</td>\n",
              "      <td>9.835109e-01</td>\n",
              "      <td>1.723438</td>\n",
              "    </tr>\n",
              "    <tr>\n",
              "      <th>min</th>\n",
              "      <td>1.00000</td>\n",
              "      <td>16.000000</td>\n",
              "      <td>8363.260000</td>\n",
              "      <td>6089.320000</td>\n",
              "      <td>10637.190000</td>\n",
              "      <td>9.170000</td>\n",
              "      <td>0.000000</td>\n",
              "      <td>14.000000</td>\n",
              "      <td>73.900000</td>\n",
              "      <td>150.720000</td>\n",
              "      <td>...</td>\n",
              "      <td>0.779650</td>\n",
              "      <td>2.344050</td>\n",
              "      <td>2.600054e+06</td>\n",
              "      <td>260005.000000</td>\n",
              "      <td>1.0</td>\n",
              "      <td>0.0</td>\n",
              "      <td>-1.469567e+01</td>\n",
              "      <td>-5.599160e+00</td>\n",
              "      <td>-4.422359e+00</td>\n",
              "      <td>1.000000</td>\n",
              "    </tr>\n",
              "    <tr>\n",
              "      <th>25%</th>\n",
              "      <td>1778.75000</td>\n",
              "      <td>1798.750000</td>\n",
              "      <td>15716.130000</td>\n",
              "      <td>7764.000000</td>\n",
              "      <td>23668.260000</td>\n",
              "      <td>93.931000</td>\n",
              "      <td>0.000000</td>\n",
              "      <td>102.000000</td>\n",
              "      <td>217.800000</td>\n",
              "      <td>724.900000</td>\n",
              "      <td>...</td>\n",
              "      <td>33.132886</td>\n",
              "      <td>1690.851070</td>\n",
              "      <td>2.606804e+06</td>\n",
              "      <td>260680.000000</td>\n",
              "      <td>1.0</td>\n",
              "      <td>0.0</td>\n",
              "      <td>1.695634e-01</td>\n",
              "      <td>-3.195566e-01</td>\n",
              "      <td>-4.052095e-01</td>\n",
              "      <td>1.000000</td>\n",
              "    </tr>\n",
              "    <tr>\n",
              "      <th>50%</th>\n",
              "      <td>3556.50000</td>\n",
              "      <td>3576.500000</td>\n",
              "      <td>15716.130000</td>\n",
              "      <td>7764.000000</td>\n",
              "      <td>23668.260000</td>\n",
              "      <td>1537.704000</td>\n",
              "      <td>0.000000</td>\n",
              "      <td>1538.000000</td>\n",
              "      <td>217.800000</td>\n",
              "      <td>2493.060000</td>\n",
              "      <td>...</td>\n",
              "      <td>42.405936</td>\n",
              "      <td>3551.629640</td>\n",
              "      <td>2.611606e+06</td>\n",
              "      <td>261160.000000</td>\n",
              "      <td>1.0</td>\n",
              "      <td>0.0</td>\n",
              "      <td>5.933316e-01</td>\n",
              "      <td>5.792282e-01</td>\n",
              "      <td>6.354804e-01</td>\n",
              "      <td>3.000000</td>\n",
              "    </tr>\n",
              "    <tr>\n",
              "      <th>75%</th>\n",
              "      <td>5334.25000</td>\n",
              "      <td>5354.250000</td>\n",
              "      <td>15716.130000</td>\n",
              "      <td>7764.000000</td>\n",
              "      <td>23668.260000</td>\n",
              "      <td>1537.704000</td>\n",
              "      <td>8.090000</td>\n",
              "      <td>1538.000000</td>\n",
              "      <td>302.900000</td>\n",
              "      <td>2493.060000</td>\n",
              "      <td>...</td>\n",
              "      <td>54.201682</td>\n",
              "      <td>9637.294920</td>\n",
              "      <td>2.611606e+06</td>\n",
              "      <td>261160.000000</td>\n",
              "      <td>1.0</td>\n",
              "      <td>0.0</td>\n",
              "      <td>5.933316e-01</td>\n",
              "      <td>5.792282e-01</td>\n",
              "      <td>6.354804e-01</td>\n",
              "      <td>4.000000</td>\n",
              "    </tr>\n",
              "    <tr>\n",
              "      <th>max</th>\n",
              "      <td>7112.00000</td>\n",
              "      <td>7132.000000</td>\n",
              "      <td>15716.130000</td>\n",
              "      <td>7764.000000</td>\n",
              "      <td>23668.260000</td>\n",
              "      <td>1537.704000</td>\n",
              "      <td>20.918000</td>\n",
              "      <td>1538.000000</td>\n",
              "      <td>543.000000</td>\n",
              "      <td>2493.060000</td>\n",
              "      <td>...</td>\n",
              "      <td>1078.016655</td>\n",
              "      <td>14008.902340</td>\n",
              "      <td>2.616506e+06</td>\n",
              "      <td>261650.000000</td>\n",
              "      <td>1.0</td>\n",
              "      <td>0.0</td>\n",
              "      <td>3.918216e+00</td>\n",
              "      <td>9.683645e-01</td>\n",
              "      <td>2.089046e+00</td>\n",
              "      <td>7.000000</td>\n",
              "    </tr>\n",
              "  </tbody>\n",
              "</table>\n",
              "<p>8 rows × 48 columns</p>\n",
              "</div>\n",
              "      <button class=\"colab-df-convert\" onclick=\"convertToInteractive('df-6aeea72f-075b-499d-9426-a7c7b395b033')\"\n",
              "              title=\"Convert this dataframe to an interactive table.\"\n",
              "              style=\"display:none;\">\n",
              "        \n",
              "  <svg xmlns=\"http://www.w3.org/2000/svg\" height=\"24px\"viewBox=\"0 0 24 24\"\n",
              "       width=\"24px\">\n",
              "    <path d=\"M0 0h24v24H0V0z\" fill=\"none\"/>\n",
              "    <path d=\"M18.56 5.44l.94 2.06.94-2.06 2.06-.94-2.06-.94-.94-2.06-.94 2.06-2.06.94zm-11 1L8.5 8.5l.94-2.06 2.06-.94-2.06-.94L8.5 2.5l-.94 2.06-2.06.94zm10 10l.94 2.06.94-2.06 2.06-.94-2.06-.94-.94-2.06-.94 2.06-2.06.94z\"/><path d=\"M17.41 7.96l-1.37-1.37c-.4-.4-.92-.59-1.43-.59-.52 0-1.04.2-1.43.59L10.3 9.45l-7.72 7.72c-.78.78-.78 2.05 0 2.83L4 21.41c.39.39.9.59 1.41.59.51 0 1.02-.2 1.41-.59l7.78-7.78 2.81-2.81c.8-.78.8-2.07 0-2.86zM5.41 20L4 18.59l7.72-7.72 1.47 1.35L5.41 20z\"/>\n",
              "  </svg>\n",
              "      </button>\n",
              "      \n",
              "  <style>\n",
              "    .colab-df-container {\n",
              "      display:flex;\n",
              "      flex-wrap:wrap;\n",
              "      gap: 12px;\n",
              "    }\n",
              "\n",
              "    .colab-df-convert {\n",
              "      background-color: #E8F0FE;\n",
              "      border: none;\n",
              "      border-radius: 50%;\n",
              "      cursor: pointer;\n",
              "      display: none;\n",
              "      fill: #1967D2;\n",
              "      height: 32px;\n",
              "      padding: 0 0 0 0;\n",
              "      width: 32px;\n",
              "    }\n",
              "\n",
              "    .colab-df-convert:hover {\n",
              "      background-color: #E2EBFA;\n",
              "      box-shadow: 0px 1px 2px rgba(60, 64, 67, 0.3), 0px 1px 3px 1px rgba(60, 64, 67, 0.15);\n",
              "      fill: #174EA6;\n",
              "    }\n",
              "\n",
              "    [theme=dark] .colab-df-convert {\n",
              "      background-color: #3B4455;\n",
              "      fill: #D2E3FC;\n",
              "    }\n",
              "\n",
              "    [theme=dark] .colab-df-convert:hover {\n",
              "      background-color: #434B5C;\n",
              "      box-shadow: 0px 1px 3px 1px rgba(0, 0, 0, 0.15);\n",
              "      filter: drop-shadow(0px 1px 2px rgba(0, 0, 0, 0.3));\n",
              "      fill: #FFFFFF;\n",
              "    }\n",
              "  </style>\n",
              "\n",
              "      <script>\n",
              "        const buttonEl =\n",
              "          document.querySelector('#df-6aeea72f-075b-499d-9426-a7c7b395b033 button.colab-df-convert');\n",
              "        buttonEl.style.display =\n",
              "          google.colab.kernel.accessAllowed ? 'block' : 'none';\n",
              "\n",
              "        async function convertToInteractive(key) {\n",
              "          const element = document.querySelector('#df-6aeea72f-075b-499d-9426-a7c7b395b033');\n",
              "          const dataTable =\n",
              "            await google.colab.kernel.invokeFunction('convertToInteractive',\n",
              "                                                     [key], {});\n",
              "          if (!dataTable) return;\n",
              "\n",
              "          const docLinkHtml = 'Like what you see? Visit the ' +\n",
              "            '<a target=\"_blank\" href=https://colab.research.google.com/notebooks/data_table.ipynb>data table notebook</a>'\n",
              "            + ' to learn more about interactive tables.';\n",
              "          element.innerHTML = '';\n",
              "          dataTable['output_type'] = 'display_data';\n",
              "          await google.colab.output.renderOutput(dataTable, element);\n",
              "          const docLink = document.createElement('div');\n",
              "          docLink.innerHTML = docLinkHtml;\n",
              "          element.appendChild(docLink);\n",
              "        }\n",
              "      </script>\n",
              "    </div>\n",
              "  </div>\n",
              "  "
            ]
          },
          "metadata": {},
          "execution_count": 10
        }
      ]
    },
    {
      "cell_type": "markdown",
      "source": [
        "# Matriz de Vizinhaça\n"
      ],
      "metadata": {
        "id": "PA0rPS_F7dYa"
      }
    },
    {
      "cell_type": "code",
      "source": [
        "weights_ocup = Queen.from_dataframe(ocup)\n",
        "W_matrix, ids = weights_ocup.full()\n",
        "list(W_matrix[0]) # vizinhança do estado PE (matriz de 0's e 1's)"
      ],
      "metadata": {
        "id": "8uMY61VjzQLN"
      },
      "execution_count": null,
      "outputs": []
    },
    {
      "cell_type": "code",
      "source": [
        "weights_gdf = Queen.from_dataframe(gdf)\n",
        "W_matrix, ids = weights_gdf.full()\n",
        "list(W_matrix[0]) # vizinhança do estado PE (matriz de 0's e 1's)"
      ],
      "metadata": {
        "id": "9b2bgXLxt5Xe"
      },
      "execution_count": null,
      "outputs": []
    },
    {
      "cell_type": "markdown",
      "source": [
        "É uma prática comum utilizar os valores normalizados linha a linha dessa matriz de vizinhanças, de modo que as vizinhanças de um estado se tornam menos importantes se ele tiver muitos vizinhos.\n",
        "Para isso, usamos a função transform:"
      ],
      "metadata": {
        "id": "TMM1bogzuGtL"
      }
    },
    {
      "cell_type": "code",
      "source": [
        "weights_ocup.transform = 'r'\n",
        "W_matrix, ids = weights_ocup.full()\n",
        "list(W_matrix[0]) # vizinhança Ocupação  (matriz normalizada)"
      ],
      "metadata": {
        "id": "xcMfhLJDuHr2"
      },
      "execution_count": null,
      "outputs": []
    },
    {
      "cell_type": "code",
      "source": [
        "weights_gdf.transform = 'r'\n",
        "W_matrix, ids = weights_gdf.full()\n",
        "list(W_matrix[0]) # vizinhança Ocupação  (matriz normalizada)"
      ],
      "metadata": {
        "id": "-Ny6seG10G5t"
      },
      "execution_count": null,
      "outputs": []
    },
    {
      "cell_type": "markdown",
      "source": [
        "Como se trata de uma matriz esparsa com n * n elementos, é interessante verificar se a quantidade de linhas (n) está certa, e qual é a proporção de nulos que temos:"
      ],
      "metadata": {
        "id": "_YqvWtbJuTvH"
      }
    },
    {
      "cell_type": "code",
      "source": [
        "str(np.round(weights_gdf.pct_nonzero,2))+\"%\""
      ],
      "metadata": {
        "colab": {
          "base_uri": "https://localhost:8080/",
          "height": 35
        },
        "id": "moZrtbKDuVEQ",
        "outputId": "51a60c3f-bc50-4f39-e656-04c7edd79aff"
      },
      "execution_count": null,
      "outputs": [
        {
          "output_type": "execute_result",
          "data": {
            "text/plain": [
              "'0.08%'"
            ],
            "application/vnd.google.colaboratory.intrinsic+json": {
              "type": "string"
            }
          },
          "metadata": {},
          "execution_count": 15
        }
      ]
    },
    {
      "cell_type": "code",
      "source": [
        "weights_ocup.n"
      ],
      "metadata": {
        "colab": {
          "base_uri": "https://localhost:8080/"
        },
        "id": "WplgUvup0tS3",
        "outputId": "3d9f3e47-1c34-49d0-c05a-dacd3c5e1d1c"
      },
      "execution_count": null,
      "outputs": [
        {
          "output_type": "execute_result",
          "data": {
            "text/plain": [
              "7112"
            ]
          },
          "metadata": {},
          "execution_count": 18
        }
      ]
    },
    {
      "cell_type": "markdown",
      "source": [
        "# 5.3 Unir os poligogons dos dados censitários e limite municipal com as Ocupações Irregulares"
      ],
      "metadata": {
        "id": "JUSh8aEs1QDE"
      }
    },
    {
      "cell_type": "code",
      "source": [
        "gdf.describe()"
      ],
      "metadata": {
        "id": "n4mkSGrt2Y2J",
        "colab": {
          "base_uri": "https://localhost:8080/",
          "height": 394
        },
        "outputId": "a283ebf2-4592-493f-948b-2041fbebf82e"
      },
      "execution_count": null,
      "outputs": [
        {
          "output_type": "execute_result",
          "data": {
            "text/plain": [
              "          POLY_ID          fid       VTN_med    VTN_minim       VTN_max  \\\n",
              "count  7112.00000  7112.000000   7112.000000  7112.000000   7112.000000   \n",
              "mean   3556.50000  3576.490157  14971.744961  7594.459843  22349.029066   \n",
              "std    2053.20189  2053.218917   2218.095832   505.190589   3931.004091   \n",
              "min       1.00000    16.000000   8363.260000  6089.320000  10637.190000   \n",
              "25%    1778.75000  1798.750000  15716.130000  7764.000000  23668.260000   \n",
              "50%    3556.50000  3576.500000  15716.130000  7764.000000  23668.260000   \n",
              "75%    5334.25000  5354.250000  15716.130000  7764.000000  23668.260000   \n",
              "max    7112.00000  7132.000000  15716.130000  7764.000000  23668.260000   \n",
              "\n",
              "        pop_urbana    pop_rural    pop_total         area         dens  ...  \\\n",
              "count  7112.000000  7112.000000  7112.000000  7112.000000  7112.000000  ...   \n",
              "mean    863.013384     4.794870   867.945163   244.621161  1889.246066  ...   \n",
              "std     701.666450     5.994344   697.032958    93.111174   937.310492  ...   \n",
              "min       9.170000     0.000000    14.000000    73.900000   150.720000  ...   \n",
              "25%      93.931000     0.000000   102.000000   217.800000   724.900000  ...   \n",
              "50%    1537.704000     0.000000  1538.000000   217.800000  2493.060000  ...   \n",
              "75%    1537.704000     8.090000  1538.000000   302.900000  2493.060000  ...   \n",
              "max    1537.704000    20.918000  1538.000000   543.000000  2493.060000  ...   \n",
              "\n",
              "          distance    Densiadde_       CODMUN7        CODMUN6  CATEGORIES  \\\n",
              "count  7112.000000   7112.000000  7.092000e+03    7092.000000      7112.0   \n",
              "mean     72.103624   5259.786372  2.608792e+06  260878.678793         1.0   \n",
              "std     124.976456   4455.648101  3.898722e+03     389.756580         0.0   \n",
              "min       0.779650      2.344050  2.600054e+06  260005.000000         1.0   \n",
              "25%      33.132886   1690.851070  2.606804e+06  260680.000000         1.0   \n",
              "50%      42.405936   3551.629640  2.611606e+06  261160.000000         1.0   \n",
              "75%      54.201682   9637.294920  2.611606e+06  261160.000000         1.0   \n",
              "max    1078.016655  14008.902340  2.616506e+06  261650.000000         1.0   \n",
              "\n",
              "       SELECTED           PC1           PC2           PC3           CL  \n",
              "count    7112.0  7.112000e+03  7.112000e+03  7.112000e+03  7112.000000  \n",
              "mean        0.0  1.315794e-08  3.904222e-08  4.695374e-08     2.931243  \n",
              "std         0.0  1.971929e+00  1.146489e+00  9.835109e-01     1.723438  \n",
              "min         0.0 -1.469567e+01 -5.599160e+00 -4.422359e+00     1.000000  \n",
              "25%         0.0  1.695634e-01 -3.195566e-01 -4.052095e-01     1.000000  \n",
              "50%         0.0  5.933316e-01  5.792282e-01  6.354804e-01     3.000000  \n",
              "75%         0.0  5.933316e-01  5.792282e-01  6.354804e-01     4.000000  \n",
              "max         0.0  3.918216e+00  9.683645e-01  2.089046e+00     7.000000  \n",
              "\n",
              "[8 rows x 48 columns]"
            ],
            "text/html": [
              "\n",
              "  <div id=\"df-d37cb5fc-b75e-4ab3-9742-1d81c705116d\">\n",
              "    <div class=\"colab-df-container\">\n",
              "      <div>\n",
              "<style scoped>\n",
              "    .dataframe tbody tr th:only-of-type {\n",
              "        vertical-align: middle;\n",
              "    }\n",
              "\n",
              "    .dataframe tbody tr th {\n",
              "        vertical-align: top;\n",
              "    }\n",
              "\n",
              "    .dataframe thead th {\n",
              "        text-align: right;\n",
              "    }\n",
              "</style>\n",
              "<table border=\"1\" class=\"dataframe\">\n",
              "  <thead>\n",
              "    <tr style=\"text-align: right;\">\n",
              "      <th></th>\n",
              "      <th>POLY_ID</th>\n",
              "      <th>fid</th>\n",
              "      <th>VTN_med</th>\n",
              "      <th>VTN_minim</th>\n",
              "      <th>VTN_max</th>\n",
              "      <th>pop_urbana</th>\n",
              "      <th>pop_rural</th>\n",
              "      <th>pop_total</th>\n",
              "      <th>area</th>\n",
              "      <th>dens</th>\n",
              "      <th>...</th>\n",
              "      <th>distance</th>\n",
              "      <th>Densiadde_</th>\n",
              "      <th>CODMUN7</th>\n",
              "      <th>CODMUN6</th>\n",
              "      <th>CATEGORIES</th>\n",
              "      <th>SELECTED</th>\n",
              "      <th>PC1</th>\n",
              "      <th>PC2</th>\n",
              "      <th>PC3</th>\n",
              "      <th>CL</th>\n",
              "    </tr>\n",
              "  </thead>\n",
              "  <tbody>\n",
              "    <tr>\n",
              "      <th>count</th>\n",
              "      <td>7112.00000</td>\n",
              "      <td>7112.000000</td>\n",
              "      <td>7112.000000</td>\n",
              "      <td>7112.000000</td>\n",
              "      <td>7112.000000</td>\n",
              "      <td>7112.000000</td>\n",
              "      <td>7112.000000</td>\n",
              "      <td>7112.000000</td>\n",
              "      <td>7112.000000</td>\n",
              "      <td>7112.000000</td>\n",
              "      <td>...</td>\n",
              "      <td>7112.000000</td>\n",
              "      <td>7112.000000</td>\n",
              "      <td>7.092000e+03</td>\n",
              "      <td>7092.000000</td>\n",
              "      <td>7112.0</td>\n",
              "      <td>7112.0</td>\n",
              "      <td>7.112000e+03</td>\n",
              "      <td>7.112000e+03</td>\n",
              "      <td>7.112000e+03</td>\n",
              "      <td>7112.000000</td>\n",
              "    </tr>\n",
              "    <tr>\n",
              "      <th>mean</th>\n",
              "      <td>3556.50000</td>\n",
              "      <td>3576.490157</td>\n",
              "      <td>14971.744961</td>\n",
              "      <td>7594.459843</td>\n",
              "      <td>22349.029066</td>\n",
              "      <td>863.013384</td>\n",
              "      <td>4.794870</td>\n",
              "      <td>867.945163</td>\n",
              "      <td>244.621161</td>\n",
              "      <td>1889.246066</td>\n",
              "      <td>...</td>\n",
              "      <td>72.103624</td>\n",
              "      <td>5259.786372</td>\n",
              "      <td>2.608792e+06</td>\n",
              "      <td>260878.678793</td>\n",
              "      <td>1.0</td>\n",
              "      <td>0.0</td>\n",
              "      <td>1.315794e-08</td>\n",
              "      <td>3.904222e-08</td>\n",
              "      <td>4.695374e-08</td>\n",
              "      <td>2.931243</td>\n",
              "    </tr>\n",
              "    <tr>\n",
              "      <th>std</th>\n",
              "      <td>2053.20189</td>\n",
              "      <td>2053.218917</td>\n",
              "      <td>2218.095832</td>\n",
              "      <td>505.190589</td>\n",
              "      <td>3931.004091</td>\n",
              "      <td>701.666450</td>\n",
              "      <td>5.994344</td>\n",
              "      <td>697.032958</td>\n",
              "      <td>93.111174</td>\n",
              "      <td>937.310492</td>\n",
              "      <td>...</td>\n",
              "      <td>124.976456</td>\n",
              "      <td>4455.648101</td>\n",
              "      <td>3.898722e+03</td>\n",
              "      <td>389.756580</td>\n",
              "      <td>0.0</td>\n",
              "      <td>0.0</td>\n",
              "      <td>1.971929e+00</td>\n",
              "      <td>1.146489e+00</td>\n",
              "      <td>9.835109e-01</td>\n",
              "      <td>1.723438</td>\n",
              "    </tr>\n",
              "    <tr>\n",
              "      <th>min</th>\n",
              "      <td>1.00000</td>\n",
              "      <td>16.000000</td>\n",
              "      <td>8363.260000</td>\n",
              "      <td>6089.320000</td>\n",
              "      <td>10637.190000</td>\n",
              "      <td>9.170000</td>\n",
              "      <td>0.000000</td>\n",
              "      <td>14.000000</td>\n",
              "      <td>73.900000</td>\n",
              "      <td>150.720000</td>\n",
              "      <td>...</td>\n",
              "      <td>0.779650</td>\n",
              "      <td>2.344050</td>\n",
              "      <td>2.600054e+06</td>\n",
              "      <td>260005.000000</td>\n",
              "      <td>1.0</td>\n",
              "      <td>0.0</td>\n",
              "      <td>-1.469567e+01</td>\n",
              "      <td>-5.599160e+00</td>\n",
              "      <td>-4.422359e+00</td>\n",
              "      <td>1.000000</td>\n",
              "    </tr>\n",
              "    <tr>\n",
              "      <th>25%</th>\n",
              "      <td>1778.75000</td>\n",
              "      <td>1798.750000</td>\n",
              "      <td>15716.130000</td>\n",
              "      <td>7764.000000</td>\n",
              "      <td>23668.260000</td>\n",
              "      <td>93.931000</td>\n",
              "      <td>0.000000</td>\n",
              "      <td>102.000000</td>\n",
              "      <td>217.800000</td>\n",
              "      <td>724.900000</td>\n",
              "      <td>...</td>\n",
              "      <td>33.132886</td>\n",
              "      <td>1690.851070</td>\n",
              "      <td>2.606804e+06</td>\n",
              "      <td>260680.000000</td>\n",
              "      <td>1.0</td>\n",
              "      <td>0.0</td>\n",
              "      <td>1.695634e-01</td>\n",
              "      <td>-3.195566e-01</td>\n",
              "      <td>-4.052095e-01</td>\n",
              "      <td>1.000000</td>\n",
              "    </tr>\n",
              "    <tr>\n",
              "      <th>50%</th>\n",
              "      <td>3556.50000</td>\n",
              "      <td>3576.500000</td>\n",
              "      <td>15716.130000</td>\n",
              "      <td>7764.000000</td>\n",
              "      <td>23668.260000</td>\n",
              "      <td>1537.704000</td>\n",
              "      <td>0.000000</td>\n",
              "      <td>1538.000000</td>\n",
              "      <td>217.800000</td>\n",
              "      <td>2493.060000</td>\n",
              "      <td>...</td>\n",
              "      <td>42.405936</td>\n",
              "      <td>3551.629640</td>\n",
              "      <td>2.611606e+06</td>\n",
              "      <td>261160.000000</td>\n",
              "      <td>1.0</td>\n",
              "      <td>0.0</td>\n",
              "      <td>5.933316e-01</td>\n",
              "      <td>5.792282e-01</td>\n",
              "      <td>6.354804e-01</td>\n",
              "      <td>3.000000</td>\n",
              "    </tr>\n",
              "    <tr>\n",
              "      <th>75%</th>\n",
              "      <td>5334.25000</td>\n",
              "      <td>5354.250000</td>\n",
              "      <td>15716.130000</td>\n",
              "      <td>7764.000000</td>\n",
              "      <td>23668.260000</td>\n",
              "      <td>1537.704000</td>\n",
              "      <td>8.090000</td>\n",
              "      <td>1538.000000</td>\n",
              "      <td>302.900000</td>\n",
              "      <td>2493.060000</td>\n",
              "      <td>...</td>\n",
              "      <td>54.201682</td>\n",
              "      <td>9637.294920</td>\n",
              "      <td>2.611606e+06</td>\n",
              "      <td>261160.000000</td>\n",
              "      <td>1.0</td>\n",
              "      <td>0.0</td>\n",
              "      <td>5.933316e-01</td>\n",
              "      <td>5.792282e-01</td>\n",
              "      <td>6.354804e-01</td>\n",
              "      <td>4.000000</td>\n",
              "    </tr>\n",
              "    <tr>\n",
              "      <th>max</th>\n",
              "      <td>7112.00000</td>\n",
              "      <td>7132.000000</td>\n",
              "      <td>15716.130000</td>\n",
              "      <td>7764.000000</td>\n",
              "      <td>23668.260000</td>\n",
              "      <td>1537.704000</td>\n",
              "      <td>20.918000</td>\n",
              "      <td>1538.000000</td>\n",
              "      <td>543.000000</td>\n",
              "      <td>2493.060000</td>\n",
              "      <td>...</td>\n",
              "      <td>1078.016655</td>\n",
              "      <td>14008.902340</td>\n",
              "      <td>2.616506e+06</td>\n",
              "      <td>261650.000000</td>\n",
              "      <td>1.0</td>\n",
              "      <td>0.0</td>\n",
              "      <td>3.918216e+00</td>\n",
              "      <td>9.683645e-01</td>\n",
              "      <td>2.089046e+00</td>\n",
              "      <td>7.000000</td>\n",
              "    </tr>\n",
              "  </tbody>\n",
              "</table>\n",
              "<p>8 rows × 48 columns</p>\n",
              "</div>\n",
              "      <button class=\"colab-df-convert\" onclick=\"convertToInteractive('df-d37cb5fc-b75e-4ab3-9742-1d81c705116d')\"\n",
              "              title=\"Convert this dataframe to an interactive table.\"\n",
              "              style=\"display:none;\">\n",
              "        \n",
              "  <svg xmlns=\"http://www.w3.org/2000/svg\" height=\"24px\"viewBox=\"0 0 24 24\"\n",
              "       width=\"24px\">\n",
              "    <path d=\"M0 0h24v24H0V0z\" fill=\"none\"/>\n",
              "    <path d=\"M18.56 5.44l.94 2.06.94-2.06 2.06-.94-2.06-.94-.94-2.06-.94 2.06-2.06.94zm-11 1L8.5 8.5l.94-2.06 2.06-.94-2.06-.94L8.5 2.5l-.94 2.06-2.06.94zm10 10l.94 2.06.94-2.06 2.06-.94-2.06-.94-.94-2.06-.94 2.06-2.06.94z\"/><path d=\"M17.41 7.96l-1.37-1.37c-.4-.4-.92-.59-1.43-.59-.52 0-1.04.2-1.43.59L10.3 9.45l-7.72 7.72c-.78.78-.78 2.05 0 2.83L4 21.41c.39.39.9.59 1.41.59.51 0 1.02-.2 1.41-.59l7.78-7.78 2.81-2.81c.8-.78.8-2.07 0-2.86zM5.41 20L4 18.59l7.72-7.72 1.47 1.35L5.41 20z\"/>\n",
              "  </svg>\n",
              "      </button>\n",
              "      \n",
              "  <style>\n",
              "    .colab-df-container {\n",
              "      display:flex;\n",
              "      flex-wrap:wrap;\n",
              "      gap: 12px;\n",
              "    }\n",
              "\n",
              "    .colab-df-convert {\n",
              "      background-color: #E8F0FE;\n",
              "      border: none;\n",
              "      border-radius: 50%;\n",
              "      cursor: pointer;\n",
              "      display: none;\n",
              "      fill: #1967D2;\n",
              "      height: 32px;\n",
              "      padding: 0 0 0 0;\n",
              "      width: 32px;\n",
              "    }\n",
              "\n",
              "    .colab-df-convert:hover {\n",
              "      background-color: #E2EBFA;\n",
              "      box-shadow: 0px 1px 2px rgba(60, 64, 67, 0.3), 0px 1px 3px 1px rgba(60, 64, 67, 0.15);\n",
              "      fill: #174EA6;\n",
              "    }\n",
              "\n",
              "    [theme=dark] .colab-df-convert {\n",
              "      background-color: #3B4455;\n",
              "      fill: #D2E3FC;\n",
              "    }\n",
              "\n",
              "    [theme=dark] .colab-df-convert:hover {\n",
              "      background-color: #434B5C;\n",
              "      box-shadow: 0px 1px 3px 1px rgba(0, 0, 0, 0.15);\n",
              "      filter: drop-shadow(0px 1px 2px rgba(0, 0, 0, 0.3));\n",
              "      fill: #FFFFFF;\n",
              "    }\n",
              "  </style>\n",
              "\n",
              "      <script>\n",
              "        const buttonEl =\n",
              "          document.querySelector('#df-d37cb5fc-b75e-4ab3-9742-1d81c705116d button.colab-df-convert');\n",
              "        buttonEl.style.display =\n",
              "          google.colab.kernel.accessAllowed ? 'block' : 'none';\n",
              "\n",
              "        async function convertToInteractive(key) {\n",
              "          const element = document.querySelector('#df-d37cb5fc-b75e-4ab3-9742-1d81c705116d');\n",
              "          const dataTable =\n",
              "            await google.colab.kernel.invokeFunction('convertToInteractive',\n",
              "                                                     [key], {});\n",
              "          if (!dataTable) return;\n",
              "\n",
              "          const docLinkHtml = 'Like what you see? Visit the ' +\n",
              "            '<a target=\"_blank\" href=https://colab.research.google.com/notebooks/data_table.ipynb>data table notebook</a>'\n",
              "            + ' to learn more about interactive tables.';\n",
              "          element.innerHTML = '';\n",
              "          dataTable['output_type'] = 'display_data';\n",
              "          await google.colab.output.renderOutput(dataTable, element);\n",
              "          const docLink = document.createElement('div');\n",
              "          docLink.innerHTML = docLinkHtml;\n",
              "          element.appendChild(docLink);\n",
              "        }\n",
              "      </script>\n",
              "    </div>\n",
              "  </div>\n",
              "  "
            ]
          },
          "metadata": {},
          "execution_count": 19
        }
      ]
    },
    {
      "cell_type": "markdown",
      "source": [
        " Identificação das Variaveis"
      ],
      "metadata": {
        "id": "rGJxjRZg-RKy"
      }
    },
    {
      "cell_type": "code",
      "source": [
        "gdf.columns"
      ],
      "metadata": {
        "id": "OM-UNXzi5-5i",
        "colab": {
          "base_uri": "https://localhost:8080/"
        },
        "outputId": "119bff7e-8432-463e-f705-4f2cabcf5ac9"
      },
      "execution_count": null,
      "outputs": [
        {
          "output_type": "execute_result",
          "data": {
            "text/plain": [
              "Index(['POLY_ID', 'fid', 'REGIAO', 'MRT', 'VTN_med', 'VTN_minim', 'VTN_max',\n",
              "       'pop_urbana', 'pop_rural', 'pop_total', 'area', 'dens', 'tax_Urban',\n",
              "       'IVS_10', 'IVS_INF10', 'IVS_CAP10', 'IVS_REN10', 'IVS_00', 'IVS_INFR00',\n",
              "       'IVS_CAPH00', 'IVS_REN00', 'uso_18', 'uso_10', 'uso_00', 'E', 'N',\n",
              "       'v22_10', 'v21_10', 'v8_10', 'v7_10', 'v5_10', 'v4_10', 'v3_10',\n",
              "       'v1_10', 'mmpr_10', 'palfap_10', 'palfac_10', 'lixo_10', 'esg_10',\n",
              "       'agua_10', 'join_Layer', 'distance', 'Densiadde_', 'NM_MUNICIP',\n",
              "       'CODMUN7', 'CODMUN6', 'CATEGORIES', 'SELECTED', 'PC1', 'PC2', 'PC3',\n",
              "       'CL', 'geometry'],\n",
              "      dtype='object')"
            ]
          },
          "metadata": {},
          "execution_count": 20
        }
      ]
    },
    {
      "cell_type": "markdown",
      "source": [
        "Analise Exploratória dos Dados"
      ],
      "metadata": {
        "id": "kssiifK--Vt2"
      }
    },
    {
      "cell_type": "code",
      "source": [
        "ocup.describe()"
      ],
      "metadata": {
        "id": "7QNBj3wz2keC",
        "colab": {
          "base_uri": "https://localhost:8080/",
          "height": 394
        },
        "outputId": "9f75e7b5-039b-4a5a-85a7-b4214c0f94b9"
      },
      "execution_count": null,
      "outputs": [
        {
          "output_type": "execute_result",
          "data": {
            "text/plain": [
              "          POLY_ID          fid       VTN_med    VTN_minim       VTN_max  \\\n",
              "count  7112.00000  7112.000000   7112.000000  7112.000000   7112.000000   \n",
              "mean   3556.50000  3576.490157  14971.744961  7594.459843  22349.029066   \n",
              "std    2053.20189  2053.218917   2218.095832   505.190589   3931.004091   \n",
              "min       1.00000    16.000000   8363.260000  6089.320000  10637.190000   \n",
              "25%    1778.75000  1798.750000  15716.130000  7764.000000  23668.260000   \n",
              "50%    3556.50000  3576.500000  15716.130000  7764.000000  23668.260000   \n",
              "75%    5334.25000  5354.250000  15716.130000  7764.000000  23668.260000   \n",
              "max    7112.00000  7132.000000  15716.130000  7764.000000  23668.260000   \n",
              "\n",
              "        pop_urbana    pop_rural    pop_total         area         dens  ...  \\\n",
              "count  7112.000000  7112.000000  7112.000000  7112.000000  7112.000000  ...   \n",
              "mean    863.013384     4.794870   867.945163   244.621161  1889.246066  ...   \n",
              "std     701.666450     5.994344   697.032958    93.111174   937.310492  ...   \n",
              "min       9.170000     0.000000    14.000000    73.900000   150.720000  ...   \n",
              "25%      93.931000     0.000000   102.000000   217.800000   724.900000  ...   \n",
              "50%    1537.704000     0.000000  1538.000000   217.800000  2493.060000  ...   \n",
              "75%    1537.704000     8.090000  1538.000000   302.900000  2493.060000  ...   \n",
              "max    1537.704000    20.918000  1538.000000   543.000000  2493.060000  ...   \n",
              "\n",
              "          distance    Densiadde_       CODMUN7        CODMUN6  CATEGORIES  \\\n",
              "count  7112.000000   7112.000000  7.092000e+03    7092.000000      7112.0   \n",
              "mean     72.103624   5259.786372  2.608792e+06  260878.678793         1.0   \n",
              "std     124.976456   4455.648101  3.898722e+03     389.756580         0.0   \n",
              "min       0.779650      2.344050  2.600054e+06  260005.000000         1.0   \n",
              "25%      33.132886   1690.851070  2.606804e+06  260680.000000         1.0   \n",
              "50%      42.405936   3551.629640  2.611606e+06  261160.000000         1.0   \n",
              "75%      54.201682   9637.294920  2.611606e+06  261160.000000         1.0   \n",
              "max    1078.016655  14008.902340  2.616506e+06  261650.000000         1.0   \n",
              "\n",
              "       SELECTED           PC1           PC2           PC3           CL  \n",
              "count    7112.0  7.112000e+03  7.112000e+03  7.112000e+03  7112.000000  \n",
              "mean        0.0  1.315794e-08  3.904222e-08  4.695374e-08     2.931243  \n",
              "std         0.0  1.971929e+00  1.146489e+00  9.835109e-01     1.723438  \n",
              "min         0.0 -1.469567e+01 -5.599160e+00 -4.422359e+00     1.000000  \n",
              "25%         0.0  1.695634e-01 -3.195566e-01 -4.052095e-01     1.000000  \n",
              "50%         0.0  5.933316e-01  5.792282e-01  6.354804e-01     3.000000  \n",
              "75%         0.0  5.933316e-01  5.792282e-01  6.354804e-01     4.000000  \n",
              "max         0.0  3.918216e+00  9.683645e-01  2.089046e+00     7.000000  \n",
              "\n",
              "[8 rows x 48 columns]"
            ],
            "text/html": [
              "\n",
              "  <div id=\"df-6811d24d-44b1-4d71-a5be-315e77c0b971\">\n",
              "    <div class=\"colab-df-container\">\n",
              "      <div>\n",
              "<style scoped>\n",
              "    .dataframe tbody tr th:only-of-type {\n",
              "        vertical-align: middle;\n",
              "    }\n",
              "\n",
              "    .dataframe tbody tr th {\n",
              "        vertical-align: top;\n",
              "    }\n",
              "\n",
              "    .dataframe thead th {\n",
              "        text-align: right;\n",
              "    }\n",
              "</style>\n",
              "<table border=\"1\" class=\"dataframe\">\n",
              "  <thead>\n",
              "    <tr style=\"text-align: right;\">\n",
              "      <th></th>\n",
              "      <th>POLY_ID</th>\n",
              "      <th>fid</th>\n",
              "      <th>VTN_med</th>\n",
              "      <th>VTN_minim</th>\n",
              "      <th>VTN_max</th>\n",
              "      <th>pop_urbana</th>\n",
              "      <th>pop_rural</th>\n",
              "      <th>pop_total</th>\n",
              "      <th>area</th>\n",
              "      <th>dens</th>\n",
              "      <th>...</th>\n",
              "      <th>distance</th>\n",
              "      <th>Densiadde_</th>\n",
              "      <th>CODMUN7</th>\n",
              "      <th>CODMUN6</th>\n",
              "      <th>CATEGORIES</th>\n",
              "      <th>SELECTED</th>\n",
              "      <th>PC1</th>\n",
              "      <th>PC2</th>\n",
              "      <th>PC3</th>\n",
              "      <th>CL</th>\n",
              "    </tr>\n",
              "  </thead>\n",
              "  <tbody>\n",
              "    <tr>\n",
              "      <th>count</th>\n",
              "      <td>7112.00000</td>\n",
              "      <td>7112.000000</td>\n",
              "      <td>7112.000000</td>\n",
              "      <td>7112.000000</td>\n",
              "      <td>7112.000000</td>\n",
              "      <td>7112.000000</td>\n",
              "      <td>7112.000000</td>\n",
              "      <td>7112.000000</td>\n",
              "      <td>7112.000000</td>\n",
              "      <td>7112.000000</td>\n",
              "      <td>...</td>\n",
              "      <td>7112.000000</td>\n",
              "      <td>7112.000000</td>\n",
              "      <td>7.092000e+03</td>\n",
              "      <td>7092.000000</td>\n",
              "      <td>7112.0</td>\n",
              "      <td>7112.0</td>\n",
              "      <td>7.112000e+03</td>\n",
              "      <td>7.112000e+03</td>\n",
              "      <td>7.112000e+03</td>\n",
              "      <td>7112.000000</td>\n",
              "    </tr>\n",
              "    <tr>\n",
              "      <th>mean</th>\n",
              "      <td>3556.50000</td>\n",
              "      <td>3576.490157</td>\n",
              "      <td>14971.744961</td>\n",
              "      <td>7594.459843</td>\n",
              "      <td>22349.029066</td>\n",
              "      <td>863.013384</td>\n",
              "      <td>4.794870</td>\n",
              "      <td>867.945163</td>\n",
              "      <td>244.621161</td>\n",
              "      <td>1889.246066</td>\n",
              "      <td>...</td>\n",
              "      <td>72.103624</td>\n",
              "      <td>5259.786372</td>\n",
              "      <td>2.608792e+06</td>\n",
              "      <td>260878.678793</td>\n",
              "      <td>1.0</td>\n",
              "      <td>0.0</td>\n",
              "      <td>1.315794e-08</td>\n",
              "      <td>3.904222e-08</td>\n",
              "      <td>4.695374e-08</td>\n",
              "      <td>2.931243</td>\n",
              "    </tr>\n",
              "    <tr>\n",
              "      <th>std</th>\n",
              "      <td>2053.20189</td>\n",
              "      <td>2053.218917</td>\n",
              "      <td>2218.095832</td>\n",
              "      <td>505.190589</td>\n",
              "      <td>3931.004091</td>\n",
              "      <td>701.666450</td>\n",
              "      <td>5.994344</td>\n",
              "      <td>697.032958</td>\n",
              "      <td>93.111174</td>\n",
              "      <td>937.310492</td>\n",
              "      <td>...</td>\n",
              "      <td>124.976456</td>\n",
              "      <td>4455.648101</td>\n",
              "      <td>3.898722e+03</td>\n",
              "      <td>389.756580</td>\n",
              "      <td>0.0</td>\n",
              "      <td>0.0</td>\n",
              "      <td>1.971929e+00</td>\n",
              "      <td>1.146489e+00</td>\n",
              "      <td>9.835109e-01</td>\n",
              "      <td>1.723438</td>\n",
              "    </tr>\n",
              "    <tr>\n",
              "      <th>min</th>\n",
              "      <td>1.00000</td>\n",
              "      <td>16.000000</td>\n",
              "      <td>8363.260000</td>\n",
              "      <td>6089.320000</td>\n",
              "      <td>10637.190000</td>\n",
              "      <td>9.170000</td>\n",
              "      <td>0.000000</td>\n",
              "      <td>14.000000</td>\n",
              "      <td>73.900000</td>\n",
              "      <td>150.720000</td>\n",
              "      <td>...</td>\n",
              "      <td>0.779650</td>\n",
              "      <td>2.344050</td>\n",
              "      <td>2.600054e+06</td>\n",
              "      <td>260005.000000</td>\n",
              "      <td>1.0</td>\n",
              "      <td>0.0</td>\n",
              "      <td>-1.469567e+01</td>\n",
              "      <td>-5.599160e+00</td>\n",
              "      <td>-4.422359e+00</td>\n",
              "      <td>1.000000</td>\n",
              "    </tr>\n",
              "    <tr>\n",
              "      <th>25%</th>\n",
              "      <td>1778.75000</td>\n",
              "      <td>1798.750000</td>\n",
              "      <td>15716.130000</td>\n",
              "      <td>7764.000000</td>\n",
              "      <td>23668.260000</td>\n",
              "      <td>93.931000</td>\n",
              "      <td>0.000000</td>\n",
              "      <td>102.000000</td>\n",
              "      <td>217.800000</td>\n",
              "      <td>724.900000</td>\n",
              "      <td>...</td>\n",
              "      <td>33.132886</td>\n",
              "      <td>1690.851070</td>\n",
              "      <td>2.606804e+06</td>\n",
              "      <td>260680.000000</td>\n",
              "      <td>1.0</td>\n",
              "      <td>0.0</td>\n",
              "      <td>1.695634e-01</td>\n",
              "      <td>-3.195566e-01</td>\n",
              "      <td>-4.052095e-01</td>\n",
              "      <td>1.000000</td>\n",
              "    </tr>\n",
              "    <tr>\n",
              "      <th>50%</th>\n",
              "      <td>3556.50000</td>\n",
              "      <td>3576.500000</td>\n",
              "      <td>15716.130000</td>\n",
              "      <td>7764.000000</td>\n",
              "      <td>23668.260000</td>\n",
              "      <td>1537.704000</td>\n",
              "      <td>0.000000</td>\n",
              "      <td>1538.000000</td>\n",
              "      <td>217.800000</td>\n",
              "      <td>2493.060000</td>\n",
              "      <td>...</td>\n",
              "      <td>42.405936</td>\n",
              "      <td>3551.629640</td>\n",
              "      <td>2.611606e+06</td>\n",
              "      <td>261160.000000</td>\n",
              "      <td>1.0</td>\n",
              "      <td>0.0</td>\n",
              "      <td>5.933316e-01</td>\n",
              "      <td>5.792282e-01</td>\n",
              "      <td>6.354804e-01</td>\n",
              "      <td>3.000000</td>\n",
              "    </tr>\n",
              "    <tr>\n",
              "      <th>75%</th>\n",
              "      <td>5334.25000</td>\n",
              "      <td>5354.250000</td>\n",
              "      <td>15716.130000</td>\n",
              "      <td>7764.000000</td>\n",
              "      <td>23668.260000</td>\n",
              "      <td>1537.704000</td>\n",
              "      <td>8.090000</td>\n",
              "      <td>1538.000000</td>\n",
              "      <td>302.900000</td>\n",
              "      <td>2493.060000</td>\n",
              "      <td>...</td>\n",
              "      <td>54.201682</td>\n",
              "      <td>9637.294920</td>\n",
              "      <td>2.611606e+06</td>\n",
              "      <td>261160.000000</td>\n",
              "      <td>1.0</td>\n",
              "      <td>0.0</td>\n",
              "      <td>5.933316e-01</td>\n",
              "      <td>5.792282e-01</td>\n",
              "      <td>6.354804e-01</td>\n",
              "      <td>4.000000</td>\n",
              "    </tr>\n",
              "    <tr>\n",
              "      <th>max</th>\n",
              "      <td>7112.00000</td>\n",
              "      <td>7132.000000</td>\n",
              "      <td>15716.130000</td>\n",
              "      <td>7764.000000</td>\n",
              "      <td>23668.260000</td>\n",
              "      <td>1537.704000</td>\n",
              "      <td>20.918000</td>\n",
              "      <td>1538.000000</td>\n",
              "      <td>543.000000</td>\n",
              "      <td>2493.060000</td>\n",
              "      <td>...</td>\n",
              "      <td>1078.016655</td>\n",
              "      <td>14008.902340</td>\n",
              "      <td>2.616506e+06</td>\n",
              "      <td>261650.000000</td>\n",
              "      <td>1.0</td>\n",
              "      <td>0.0</td>\n",
              "      <td>3.918216e+00</td>\n",
              "      <td>9.683645e-01</td>\n",
              "      <td>2.089046e+00</td>\n",
              "      <td>7.000000</td>\n",
              "    </tr>\n",
              "  </tbody>\n",
              "</table>\n",
              "<p>8 rows × 48 columns</p>\n",
              "</div>\n",
              "      <button class=\"colab-df-convert\" onclick=\"convertToInteractive('df-6811d24d-44b1-4d71-a5be-315e77c0b971')\"\n",
              "              title=\"Convert this dataframe to an interactive table.\"\n",
              "              style=\"display:none;\">\n",
              "        \n",
              "  <svg xmlns=\"http://www.w3.org/2000/svg\" height=\"24px\"viewBox=\"0 0 24 24\"\n",
              "       width=\"24px\">\n",
              "    <path d=\"M0 0h24v24H0V0z\" fill=\"none\"/>\n",
              "    <path d=\"M18.56 5.44l.94 2.06.94-2.06 2.06-.94-2.06-.94-.94-2.06-.94 2.06-2.06.94zm-11 1L8.5 8.5l.94-2.06 2.06-.94-2.06-.94L8.5 2.5l-.94 2.06-2.06.94zm10 10l.94 2.06.94-2.06 2.06-.94-2.06-.94-.94-2.06-.94 2.06-2.06.94z\"/><path d=\"M17.41 7.96l-1.37-1.37c-.4-.4-.92-.59-1.43-.59-.52 0-1.04.2-1.43.59L10.3 9.45l-7.72 7.72c-.78.78-.78 2.05 0 2.83L4 21.41c.39.39.9.59 1.41.59.51 0 1.02-.2 1.41-.59l7.78-7.78 2.81-2.81c.8-.78.8-2.07 0-2.86zM5.41 20L4 18.59l7.72-7.72 1.47 1.35L5.41 20z\"/>\n",
              "  </svg>\n",
              "      </button>\n",
              "      \n",
              "  <style>\n",
              "    .colab-df-container {\n",
              "      display:flex;\n",
              "      flex-wrap:wrap;\n",
              "      gap: 12px;\n",
              "    }\n",
              "\n",
              "    .colab-df-convert {\n",
              "      background-color: #E8F0FE;\n",
              "      border: none;\n",
              "      border-radius: 50%;\n",
              "      cursor: pointer;\n",
              "      display: none;\n",
              "      fill: #1967D2;\n",
              "      height: 32px;\n",
              "      padding: 0 0 0 0;\n",
              "      width: 32px;\n",
              "    }\n",
              "\n",
              "    .colab-df-convert:hover {\n",
              "      background-color: #E2EBFA;\n",
              "      box-shadow: 0px 1px 2px rgba(60, 64, 67, 0.3), 0px 1px 3px 1px rgba(60, 64, 67, 0.15);\n",
              "      fill: #174EA6;\n",
              "    }\n",
              "\n",
              "    [theme=dark] .colab-df-convert {\n",
              "      background-color: #3B4455;\n",
              "      fill: #D2E3FC;\n",
              "    }\n",
              "\n",
              "    [theme=dark] .colab-df-convert:hover {\n",
              "      background-color: #434B5C;\n",
              "      box-shadow: 0px 1px 3px 1px rgba(0, 0, 0, 0.15);\n",
              "      filter: drop-shadow(0px 1px 2px rgba(0, 0, 0, 0.3));\n",
              "      fill: #FFFFFF;\n",
              "    }\n",
              "  </style>\n",
              "\n",
              "      <script>\n",
              "        const buttonEl =\n",
              "          document.querySelector('#df-6811d24d-44b1-4d71-a5be-315e77c0b971 button.colab-df-convert');\n",
              "        buttonEl.style.display =\n",
              "          google.colab.kernel.accessAllowed ? 'block' : 'none';\n",
              "\n",
              "        async function convertToInteractive(key) {\n",
              "          const element = document.querySelector('#df-6811d24d-44b1-4d71-a5be-315e77c0b971');\n",
              "          const dataTable =\n",
              "            await google.colab.kernel.invokeFunction('convertToInteractive',\n",
              "                                                     [key], {});\n",
              "          if (!dataTable) return;\n",
              "\n",
              "          const docLinkHtml = 'Like what you see? Visit the ' +\n",
              "            '<a target=\"_blank\" href=https://colab.research.google.com/notebooks/data_table.ipynb>data table notebook</a>'\n",
              "            + ' to learn more about interactive tables.';\n",
              "          element.innerHTML = '';\n",
              "          dataTable['output_type'] = 'display_data';\n",
              "          await google.colab.output.renderOutput(dataTable, element);\n",
              "          const docLink = document.createElement('div');\n",
              "          docLink.innerHTML = docLinkHtml;\n",
              "          element.appendChild(docLink);\n",
              "        }\n",
              "      </script>\n",
              "    </div>\n",
              "  </div>\n",
              "  "
            ]
          },
          "metadata": {},
          "execution_count": 21
        }
      ]
    },
    {
      "cell_type": "code",
      "source": [
        "ocup.columns"
      ],
      "metadata": {
        "id": "d_1YXaRk6C2Q",
        "colab": {
          "base_uri": "https://localhost:8080/"
        },
        "outputId": "4fb6cf4a-0aaa-41bd-ccea-26e467288898"
      },
      "execution_count": null,
      "outputs": [
        {
          "output_type": "execute_result",
          "data": {
            "text/plain": [
              "Index(['POLY_ID', 'fid', 'REGIAO', 'MRT', 'VTN_med', 'VTN_minim', 'VTN_max',\n",
              "       'pop_urbana', 'pop_rural', 'pop_total', 'area', 'dens', 'tax_Urban',\n",
              "       'IVS_10', 'IVS_INF10', 'IVS_CAP10', 'IVS_REN10', 'IVS_00', 'IVS_INFR00',\n",
              "       'IVS_CAPH00', 'IVS_REN00', 'uso_18', 'uso_10', 'uso_00', 'E', 'N',\n",
              "       'v22_10', 'v21_10', 'v8_10', 'v7_10', 'v5_10', 'v4_10', 'v3_10',\n",
              "       'v1_10', 'mmpr_10', 'palfap_10', 'palfac_10', 'lixo_10', 'esg_10',\n",
              "       'agua_10', 'join_Layer', 'distance', 'Densiadde_', 'NM_MUNICIP',\n",
              "       'CODMUN7', 'CODMUN6', 'CATEGORIES', 'SELECTED', 'PC1', 'PC2', 'PC3',\n",
              "       'CL', 'geometry'],\n",
              "      dtype='object')"
            ]
          },
          "metadata": {},
          "execution_count": 22
        }
      ]
    },
    {
      "cell_type": "markdown",
      "source": [
        "União de Tabelas"
      ],
      "metadata": {
        "id": "IEvn6K5G6y9O"
      }
    },
    {
      "cell_type": "code",
      "source": [
        "df_final = pd.merge(ocup, gdf, how = 'left')"
      ],
      "metadata": {
        "id": "cufGwSxn1Pl-"
      },
      "execution_count": null,
      "outputs": []
    },
    {
      "cell_type": "code",
      "source": [
        "df_final"
      ],
      "metadata": {
        "colab": {
          "base_uri": "https://localhost:8080/",
          "height": 835
        },
        "id": "JNo8TXHC6Y4v",
        "outputId": "a3790804-0f73-41bd-a118-c301b3aac13e"
      },
      "execution_count": null,
      "outputs": [
        {
          "output_type": "execute_result",
          "data": {
            "text/plain": [
              "      POLY_ID     fid         REGIAO      MRT   VTN_med  VTN_minim   VTN_max  \\\n",
              "0         1.0    16.0       MATA SUL  MRT III   8363.26    6089.32  10637.19   \n",
              "1         2.0    17.0       MATA SUL  MRT III   8363.26    6089.32  10637.19   \n",
              "2         3.0    18.0       MATA SUL  MRT III   8363.26    6089.32  10637.19   \n",
              "3         4.0    19.0       MATA SUL  MRT III   8363.26    6089.32  10637.19   \n",
              "4         5.0    20.0       MATA SUL  MRT III   8363.26    6089.32  10637.19   \n",
              "...       ...     ...            ...      ...       ...        ...       ...   \n",
              "7107   7108.0  7128.0  METROPOLITANA    MRT I  15716.13    7764.00  23668.26   \n",
              "7108   7109.0  7129.0  METROPOLITANA    MRT I  15716.13    7764.00  23668.26   \n",
              "7109   7110.0  7130.0  METROPOLITANA    MRT I  15716.13    7764.00  23668.26   \n",
              "7110   7111.0  7131.0  METROPOLITANA    MRT I  15716.13    7764.00  23668.26   \n",
              "7111   7112.0  7132.0  METROPOLITANA    MRT I  15716.13    7764.00  23668.26   \n",
              "\n",
              "      pop_urbana  pop_rural  pop_total  ...  NM_MUNICIP    CODMUN7   CODMUN6  \\\n",
              "0          9.170      4.923         14  ...       XEXÉU  2616506.0  261650.0   \n",
              "1          9.170      4.923         14  ...       XEXÉU  2616506.0  261650.0   \n",
              "2          9.170      4.923         14  ...       XEXÉU  2616506.0  261650.0   \n",
              "3          9.170      4.923         14  ...       XEXÉU  2616506.0  261650.0   \n",
              "4          9.170      4.923         14  ...       XEXÉU  2616506.0  261650.0   \n",
              "...          ...        ...        ...  ...         ...        ...       ...   \n",
              "7107    1537.704      0.000       1538  ...        None        NaN       NaN   \n",
              "7108    1537.704      0.000       1538  ...        None        NaN       NaN   \n",
              "7109    1537.704      0.000       1538  ...        None        NaN       NaN   \n",
              "7110    1537.704      0.000       1538  ...        None        NaN       NaN   \n",
              "7111    1537.704      0.000       1538  ...        None        NaN       NaN   \n",
              "\n",
              "      CATEGORIES  SELECTED       PC1       PC2       PC3   CL  \\\n",
              "0            1.0       0.0  0.852250 -3.110903  0.534290  7.0   \n",
              "1            1.0       0.0  0.852250 -3.110903  0.534290  7.0   \n",
              "2            1.0       0.0  0.852250 -3.110903  0.534290  7.0   \n",
              "3            1.0       0.0  0.852250 -3.110903  0.534290  7.0   \n",
              "4            1.0       0.0  0.852250 -3.110903  0.534290  7.0   \n",
              "...          ...       ...       ...       ...       ...  ...   \n",
              "7107         1.0       0.0  0.717293 -0.664901 -0.405209  3.0   \n",
              "7108         1.0       0.0  0.717293 -0.664901 -0.405209  3.0   \n",
              "7109         1.0       0.0  0.717293 -0.664901 -0.405209  3.0   \n",
              "7110         1.0       0.0  0.717293 -0.664901 -0.405209  3.0   \n",
              "7111         1.0       0.0  0.717293 -0.664901 -0.405209  3.0   \n",
              "\n",
              "                            geometry  \n",
              "0     POINT (210786.725 9018398.128)  \n",
              "1     POINT (210793.415 9018391.317)  \n",
              "2     POINT (210797.185 9018388.763)  \n",
              "3     POINT (210801.564 9018386.573)  \n",
              "4     POINT (210793.901 9018390.830)  \n",
              "...                              ...  \n",
              "7107  POINT (285216.827 9103543.671)  \n",
              "7108  POINT (285209.019 9103541.617)  \n",
              "7109  POINT (285202.957 9103540.281)  \n",
              "7110  POINT (285194.943 9103538.329)  \n",
              "7111  POINT (285188.264 9103536.479)  \n",
              "\n",
              "[7112 rows x 53 columns]"
            ],
            "text/html": [
              "\n",
              "  <div id=\"df-d5c1c374-039a-4006-b9d7-ace2f29650a6\">\n",
              "    <div class=\"colab-df-container\">\n",
              "      <div>\n",
              "<style scoped>\n",
              "    .dataframe tbody tr th:only-of-type {\n",
              "        vertical-align: middle;\n",
              "    }\n",
              "\n",
              "    .dataframe tbody tr th {\n",
              "        vertical-align: top;\n",
              "    }\n",
              "\n",
              "    .dataframe thead th {\n",
              "        text-align: right;\n",
              "    }\n",
              "</style>\n",
              "<table border=\"1\" class=\"dataframe\">\n",
              "  <thead>\n",
              "    <tr style=\"text-align: right;\">\n",
              "      <th></th>\n",
              "      <th>POLY_ID</th>\n",
              "      <th>fid</th>\n",
              "      <th>REGIAO</th>\n",
              "      <th>MRT</th>\n",
              "      <th>VTN_med</th>\n",
              "      <th>VTN_minim</th>\n",
              "      <th>VTN_max</th>\n",
              "      <th>pop_urbana</th>\n",
              "      <th>pop_rural</th>\n",
              "      <th>pop_total</th>\n",
              "      <th>...</th>\n",
              "      <th>NM_MUNICIP</th>\n",
              "      <th>CODMUN7</th>\n",
              "      <th>CODMUN6</th>\n",
              "      <th>CATEGORIES</th>\n",
              "      <th>SELECTED</th>\n",
              "      <th>PC1</th>\n",
              "      <th>PC2</th>\n",
              "      <th>PC3</th>\n",
              "      <th>CL</th>\n",
              "      <th>geometry</th>\n",
              "    </tr>\n",
              "  </thead>\n",
              "  <tbody>\n",
              "    <tr>\n",
              "      <th>0</th>\n",
              "      <td>1.0</td>\n",
              "      <td>16.0</td>\n",
              "      <td>MATA SUL</td>\n",
              "      <td>MRT III</td>\n",
              "      <td>8363.26</td>\n",
              "      <td>6089.32</td>\n",
              "      <td>10637.19</td>\n",
              "      <td>9.170</td>\n",
              "      <td>4.923</td>\n",
              "      <td>14</td>\n",
              "      <td>...</td>\n",
              "      <td>XEXÉU</td>\n",
              "      <td>2616506.0</td>\n",
              "      <td>261650.0</td>\n",
              "      <td>1.0</td>\n",
              "      <td>0.0</td>\n",
              "      <td>0.852250</td>\n",
              "      <td>-3.110903</td>\n",
              "      <td>0.534290</td>\n",
              "      <td>7.0</td>\n",
              "      <td>POINT (210786.725 9018398.128)</td>\n",
              "    </tr>\n",
              "    <tr>\n",
              "      <th>1</th>\n",
              "      <td>2.0</td>\n",
              "      <td>17.0</td>\n",
              "      <td>MATA SUL</td>\n",
              "      <td>MRT III</td>\n",
              "      <td>8363.26</td>\n",
              "      <td>6089.32</td>\n",
              "      <td>10637.19</td>\n",
              "      <td>9.170</td>\n",
              "      <td>4.923</td>\n",
              "      <td>14</td>\n",
              "      <td>...</td>\n",
              "      <td>XEXÉU</td>\n",
              "      <td>2616506.0</td>\n",
              "      <td>261650.0</td>\n",
              "      <td>1.0</td>\n",
              "      <td>0.0</td>\n",
              "      <td>0.852250</td>\n",
              "      <td>-3.110903</td>\n",
              "      <td>0.534290</td>\n",
              "      <td>7.0</td>\n",
              "      <td>POINT (210793.415 9018391.317)</td>\n",
              "    </tr>\n",
              "    <tr>\n",
              "      <th>2</th>\n",
              "      <td>3.0</td>\n",
              "      <td>18.0</td>\n",
              "      <td>MATA SUL</td>\n",
              "      <td>MRT III</td>\n",
              "      <td>8363.26</td>\n",
              "      <td>6089.32</td>\n",
              "      <td>10637.19</td>\n",
              "      <td>9.170</td>\n",
              "      <td>4.923</td>\n",
              "      <td>14</td>\n",
              "      <td>...</td>\n",
              "      <td>XEXÉU</td>\n",
              "      <td>2616506.0</td>\n",
              "      <td>261650.0</td>\n",
              "      <td>1.0</td>\n",
              "      <td>0.0</td>\n",
              "      <td>0.852250</td>\n",
              "      <td>-3.110903</td>\n",
              "      <td>0.534290</td>\n",
              "      <td>7.0</td>\n",
              "      <td>POINT (210797.185 9018388.763)</td>\n",
              "    </tr>\n",
              "    <tr>\n",
              "      <th>3</th>\n",
              "      <td>4.0</td>\n",
              "      <td>19.0</td>\n",
              "      <td>MATA SUL</td>\n",
              "      <td>MRT III</td>\n",
              "      <td>8363.26</td>\n",
              "      <td>6089.32</td>\n",
              "      <td>10637.19</td>\n",
              "      <td>9.170</td>\n",
              "      <td>4.923</td>\n",
              "      <td>14</td>\n",
              "      <td>...</td>\n",
              "      <td>XEXÉU</td>\n",
              "      <td>2616506.0</td>\n",
              "      <td>261650.0</td>\n",
              "      <td>1.0</td>\n",
              "      <td>0.0</td>\n",
              "      <td>0.852250</td>\n",
              "      <td>-3.110903</td>\n",
              "      <td>0.534290</td>\n",
              "      <td>7.0</td>\n",
              "      <td>POINT (210801.564 9018386.573)</td>\n",
              "    </tr>\n",
              "    <tr>\n",
              "      <th>4</th>\n",
              "      <td>5.0</td>\n",
              "      <td>20.0</td>\n",
              "      <td>MATA SUL</td>\n",
              "      <td>MRT III</td>\n",
              "      <td>8363.26</td>\n",
              "      <td>6089.32</td>\n",
              "      <td>10637.19</td>\n",
              "      <td>9.170</td>\n",
              "      <td>4.923</td>\n",
              "      <td>14</td>\n",
              "      <td>...</td>\n",
              "      <td>XEXÉU</td>\n",
              "      <td>2616506.0</td>\n",
              "      <td>261650.0</td>\n",
              "      <td>1.0</td>\n",
              "      <td>0.0</td>\n",
              "      <td>0.852250</td>\n",
              "      <td>-3.110903</td>\n",
              "      <td>0.534290</td>\n",
              "      <td>7.0</td>\n",
              "      <td>POINT (210793.901 9018390.830)</td>\n",
              "    </tr>\n",
              "    <tr>\n",
              "      <th>...</th>\n",
              "      <td>...</td>\n",
              "      <td>...</td>\n",
              "      <td>...</td>\n",
              "      <td>...</td>\n",
              "      <td>...</td>\n",
              "      <td>...</td>\n",
              "      <td>...</td>\n",
              "      <td>...</td>\n",
              "      <td>...</td>\n",
              "      <td>...</td>\n",
              "      <td>...</td>\n",
              "      <td>...</td>\n",
              "      <td>...</td>\n",
              "      <td>...</td>\n",
              "      <td>...</td>\n",
              "      <td>...</td>\n",
              "      <td>...</td>\n",
              "      <td>...</td>\n",
              "      <td>...</td>\n",
              "      <td>...</td>\n",
              "      <td>...</td>\n",
              "    </tr>\n",
              "    <tr>\n",
              "      <th>7107</th>\n",
              "      <td>7108.0</td>\n",
              "      <td>7128.0</td>\n",
              "      <td>METROPOLITANA</td>\n",
              "      <td>MRT I</td>\n",
              "      <td>15716.13</td>\n",
              "      <td>7764.00</td>\n",
              "      <td>23668.26</td>\n",
              "      <td>1537.704</td>\n",
              "      <td>0.000</td>\n",
              "      <td>1538</td>\n",
              "      <td>...</td>\n",
              "      <td>None</td>\n",
              "      <td>NaN</td>\n",
              "      <td>NaN</td>\n",
              "      <td>1.0</td>\n",
              "      <td>0.0</td>\n",
              "      <td>0.717293</td>\n",
              "      <td>-0.664901</td>\n",
              "      <td>-0.405209</td>\n",
              "      <td>3.0</td>\n",
              "      <td>POINT (285216.827 9103543.671)</td>\n",
              "    </tr>\n",
              "    <tr>\n",
              "      <th>7108</th>\n",
              "      <td>7109.0</td>\n",
              "      <td>7129.0</td>\n",
              "      <td>METROPOLITANA</td>\n",
              "      <td>MRT I</td>\n",
              "      <td>15716.13</td>\n",
              "      <td>7764.00</td>\n",
              "      <td>23668.26</td>\n",
              "      <td>1537.704</td>\n",
              "      <td>0.000</td>\n",
              "      <td>1538</td>\n",
              "      <td>...</td>\n",
              "      <td>None</td>\n",
              "      <td>NaN</td>\n",
              "      <td>NaN</td>\n",
              "      <td>1.0</td>\n",
              "      <td>0.0</td>\n",
              "      <td>0.717293</td>\n",
              "      <td>-0.664901</td>\n",
              "      <td>-0.405209</td>\n",
              "      <td>3.0</td>\n",
              "      <td>POINT (285209.019 9103541.617)</td>\n",
              "    </tr>\n",
              "    <tr>\n",
              "      <th>7109</th>\n",
              "      <td>7110.0</td>\n",
              "      <td>7130.0</td>\n",
              "      <td>METROPOLITANA</td>\n",
              "      <td>MRT I</td>\n",
              "      <td>15716.13</td>\n",
              "      <td>7764.00</td>\n",
              "      <td>23668.26</td>\n",
              "      <td>1537.704</td>\n",
              "      <td>0.000</td>\n",
              "      <td>1538</td>\n",
              "      <td>...</td>\n",
              "      <td>None</td>\n",
              "      <td>NaN</td>\n",
              "      <td>NaN</td>\n",
              "      <td>1.0</td>\n",
              "      <td>0.0</td>\n",
              "      <td>0.717293</td>\n",
              "      <td>-0.664901</td>\n",
              "      <td>-0.405209</td>\n",
              "      <td>3.0</td>\n",
              "      <td>POINT (285202.957 9103540.281)</td>\n",
              "    </tr>\n",
              "    <tr>\n",
              "      <th>7110</th>\n",
              "      <td>7111.0</td>\n",
              "      <td>7131.0</td>\n",
              "      <td>METROPOLITANA</td>\n",
              "      <td>MRT I</td>\n",
              "      <td>15716.13</td>\n",
              "      <td>7764.00</td>\n",
              "      <td>23668.26</td>\n",
              "      <td>1537.704</td>\n",
              "      <td>0.000</td>\n",
              "      <td>1538</td>\n",
              "      <td>...</td>\n",
              "      <td>None</td>\n",
              "      <td>NaN</td>\n",
              "      <td>NaN</td>\n",
              "      <td>1.0</td>\n",
              "      <td>0.0</td>\n",
              "      <td>0.717293</td>\n",
              "      <td>-0.664901</td>\n",
              "      <td>-0.405209</td>\n",
              "      <td>3.0</td>\n",
              "      <td>POINT (285194.943 9103538.329)</td>\n",
              "    </tr>\n",
              "    <tr>\n",
              "      <th>7111</th>\n",
              "      <td>7112.0</td>\n",
              "      <td>7132.0</td>\n",
              "      <td>METROPOLITANA</td>\n",
              "      <td>MRT I</td>\n",
              "      <td>15716.13</td>\n",
              "      <td>7764.00</td>\n",
              "      <td>23668.26</td>\n",
              "      <td>1537.704</td>\n",
              "      <td>0.000</td>\n",
              "      <td>1538</td>\n",
              "      <td>...</td>\n",
              "      <td>None</td>\n",
              "      <td>NaN</td>\n",
              "      <td>NaN</td>\n",
              "      <td>1.0</td>\n",
              "      <td>0.0</td>\n",
              "      <td>0.717293</td>\n",
              "      <td>-0.664901</td>\n",
              "      <td>-0.405209</td>\n",
              "      <td>3.0</td>\n",
              "      <td>POINT (285188.264 9103536.479)</td>\n",
              "    </tr>\n",
              "  </tbody>\n",
              "</table>\n",
              "<p>7112 rows × 53 columns</p>\n",
              "</div>\n",
              "      <button class=\"colab-df-convert\" onclick=\"convertToInteractive('df-d5c1c374-039a-4006-b9d7-ace2f29650a6')\"\n",
              "              title=\"Convert this dataframe to an interactive table.\"\n",
              "              style=\"display:none;\">\n",
              "        \n",
              "  <svg xmlns=\"http://www.w3.org/2000/svg\" height=\"24px\"viewBox=\"0 0 24 24\"\n",
              "       width=\"24px\">\n",
              "    <path d=\"M0 0h24v24H0V0z\" fill=\"none\"/>\n",
              "    <path d=\"M18.56 5.44l.94 2.06.94-2.06 2.06-.94-2.06-.94-.94-2.06-.94 2.06-2.06.94zm-11 1L8.5 8.5l.94-2.06 2.06-.94-2.06-.94L8.5 2.5l-.94 2.06-2.06.94zm10 10l.94 2.06.94-2.06 2.06-.94-2.06-.94-.94-2.06-.94 2.06-2.06.94z\"/><path d=\"M17.41 7.96l-1.37-1.37c-.4-.4-.92-.59-1.43-.59-.52 0-1.04.2-1.43.59L10.3 9.45l-7.72 7.72c-.78.78-.78 2.05 0 2.83L4 21.41c.39.39.9.59 1.41.59.51 0 1.02-.2 1.41-.59l7.78-7.78 2.81-2.81c.8-.78.8-2.07 0-2.86zM5.41 20L4 18.59l7.72-7.72 1.47 1.35L5.41 20z\"/>\n",
              "  </svg>\n",
              "      </button>\n",
              "      \n",
              "  <style>\n",
              "    .colab-df-container {\n",
              "      display:flex;\n",
              "      flex-wrap:wrap;\n",
              "      gap: 12px;\n",
              "    }\n",
              "\n",
              "    .colab-df-convert {\n",
              "      background-color: #E8F0FE;\n",
              "      border: none;\n",
              "      border-radius: 50%;\n",
              "      cursor: pointer;\n",
              "      display: none;\n",
              "      fill: #1967D2;\n",
              "      height: 32px;\n",
              "      padding: 0 0 0 0;\n",
              "      width: 32px;\n",
              "    }\n",
              "\n",
              "    .colab-df-convert:hover {\n",
              "      background-color: #E2EBFA;\n",
              "      box-shadow: 0px 1px 2px rgba(60, 64, 67, 0.3), 0px 1px 3px 1px rgba(60, 64, 67, 0.15);\n",
              "      fill: #174EA6;\n",
              "    }\n",
              "\n",
              "    [theme=dark] .colab-df-convert {\n",
              "      background-color: #3B4455;\n",
              "      fill: #D2E3FC;\n",
              "    }\n",
              "\n",
              "    [theme=dark] .colab-df-convert:hover {\n",
              "      background-color: #434B5C;\n",
              "      box-shadow: 0px 1px 3px 1px rgba(0, 0, 0, 0.15);\n",
              "      filter: drop-shadow(0px 1px 2px rgba(0, 0, 0, 0.3));\n",
              "      fill: #FFFFFF;\n",
              "    }\n",
              "  </style>\n",
              "\n",
              "      <script>\n",
              "        const buttonEl =\n",
              "          document.querySelector('#df-d5c1c374-039a-4006-b9d7-ace2f29650a6 button.colab-df-convert');\n",
              "        buttonEl.style.display =\n",
              "          google.colab.kernel.accessAllowed ? 'block' : 'none';\n",
              "\n",
              "        async function convertToInteractive(key) {\n",
              "          const element = document.querySelector('#df-d5c1c374-039a-4006-b9d7-ace2f29650a6');\n",
              "          const dataTable =\n",
              "            await google.colab.kernel.invokeFunction('convertToInteractive',\n",
              "                                                     [key], {});\n",
              "          if (!dataTable) return;\n",
              "\n",
              "          const docLinkHtml = 'Like what you see? Visit the ' +\n",
              "            '<a target=\"_blank\" href=https://colab.research.google.com/notebooks/data_table.ipynb>data table notebook</a>'\n",
              "            + ' to learn more about interactive tables.';\n",
              "          element.innerHTML = '';\n",
              "          dataTable['output_type'] = 'display_data';\n",
              "          await google.colab.output.renderOutput(dataTable, element);\n",
              "          const docLink = document.createElement('div');\n",
              "          docLink.innerHTML = docLinkHtml;\n",
              "          element.appendChild(docLink);\n",
              "        }\n",
              "      </script>\n",
              "    </div>\n",
              "  </div>\n",
              "  "
            ]
          },
          "metadata": {},
          "execution_count": 28
        }
      ]
    },
    {
      "cell_type": "code",
      "source": [
        "df_final.columns"
      ],
      "metadata": {
        "id": "9mraQ5TH9n24",
        "colab": {
          "base_uri": "https://localhost:8080/"
        },
        "outputId": "7b23c64a-90e9-499c-aec6-fb1759a8f093"
      },
      "execution_count": null,
      "outputs": [
        {
          "output_type": "execute_result",
          "data": {
            "text/plain": [
              "Index(['POLY_ID', 'fid', 'REGIAO', 'MRT', 'VTN_med', 'VTN_minim', 'VTN_max',\n",
              "       'pop_urbana', 'pop_rural', 'pop_total', 'area', 'dens', 'tax_Urban',\n",
              "       'IVS_10', 'IVS_INF10', 'IVS_CAP10', 'IVS_REN10', 'IVS_00', 'IVS_INFR00',\n",
              "       'IVS_CAPH00', 'IVS_REN00', 'uso_18', 'uso_10', 'uso_00', 'E', 'N',\n",
              "       'v22_10', 'v21_10', 'v8_10', 'v7_10', 'v5_10', 'v4_10', 'v3_10',\n",
              "       'v1_10', 'mmpr_10', 'palfap_10', 'palfac_10', 'lixo_10', 'esg_10',\n",
              "       'agua_10', 'join_Layer', 'distance', 'Densiadde_', 'NM_MUNICIP',\n",
              "       'CODMUN7', 'CODMUN6', 'CATEGORIES', 'SELECTED', 'PC1', 'PC2', 'PC3',\n",
              "       'CL', 'geometry'],\n",
              "      dtype='object')"
            ]
          },
          "metadata": {},
          "execution_count": 29
        }
      ]
    },
    {
      "cell_type": "markdown",
      "source": [
        "# 5.4 Analise Exploratória Espacial das Ocupações Irregulares de 2010"
      ],
      "metadata": {
        "id": "KmIPwwnf-sMx"
      }
    },
    {
      "cell_type": "markdown",
      "source": [
        "**Cálculo do Moran’s I univariado**"
      ],
      "metadata": {
        "id": "mKdNPb0uu16z"
      }
    },
    {
      "cell_type": "code",
      "source": [
        "help(Moran)"
      ],
      "metadata": {
        "id": "3AvdCwKo-IMh"
      },
      "execution_count": null,
      "outputs": []
    },
    {
      "cell_type": "code",
      "source": [
        "y=df_final[\"IVS_10\"].copy()\n",
        "moran = Moran(y, weights_ocup)"
      ],
      "metadata": {
        "id": "mgG8XJfH7n77"
      },
      "execution_count": null,
      "outputs": []
    },
    {
      "cell_type": "code",
      "source": [
        "moran.I"
      ],
      "metadata": {
        "colab": {
          "base_uri": "https://localhost:8080/"
        },
        "id": "BkjObN1_-r6G",
        "outputId": "3b16ffe7-2a19-4a57-a5a7-bc84b025c4f2"
      },
      "execution_count": null,
      "outputs": [
        {
          "output_type": "execute_result",
          "data": {
            "text/plain": [
              "0.9927140331806373"
            ]
          },
          "metadata": {},
          "execution_count": 32
        }
      ]
    },
    {
      "cell_type": "markdown",
      "source": [
        "O valor de autocorrelação é positivo.\n",
        "\n",
        "The Spatial Autocorrelation (Global Moran's I) tool is an inferential statistic, which means that the results of the analysis are always interpreted within the context of its null hypothesis.\n"
      ],
      "metadata": {
        "id": "bNzPUVKx_QO_"
      }
    },
    {
      "cell_type": "markdown",
      "source": [
        "O valor do Moran's I é uma estatística que deve ser avaliada no contexto de um teste de hipótese sobre a aleatoriedade da distribuição dos valores de y no espaço."
      ],
      "metadata": {
        "id": "ykMfy5Gg_bwr"
      }
    },
    {
      "cell_type": "markdown",
      "source": [
        "Na prática, o valor do índice calculado com moran.I é um valor normalizado: calcula-se sua esperança teórica, calcula-se seu desvio-padrão teórico, e o Moran's I é o z-score ( **equação** ). É a partir dessa estatística que aceitamos ou rejeitamos a hipótese inicial (H0) de os dados de y estarem distribuídos no espaço de forma aleatória. [5]"
      ],
      "metadata": {
        "id": "i_F3T1Bj_hWk"
      }
    },
    {
      "cell_type": "markdown",
      "source": [
        "A significância do valor de Moran's I pode ser calculado de duas formas \n",
        "\n",
        "- Observando quanto o valor obtido para I é maior/menor do que o valor esperado (esperança) para o índice (EI), assumindo que y siga uma distribuição normal\n",
        "- Observando permutações aleatórias dos valores de y no espaço e verificando a distribuição dos valores de I que obtemos. No caso, é definido um valor de permutações para esse cálculo, que por padrão é permutations=999\n"
      ],
      "metadata": {
        "id": "RIcBHYh-_t8S"
      }
    },
    {
      "cell_type": "markdown",
      "source": [
        "Como temos n = 27 < 40, a hipótese de normalidade pode não ser verdadeira, uma vez que a distribuição se aproxima de uma normal conforme n cresce. Logo, vamos avaliar a significância de I a partir de permutações dos dados no espaço."
      ],
      "metadata": {
        "id": "T1rhL1PeABdq"
      }
    },
    {
      "cell_type": "code",
      "source": [
        "print(\"Significância em relação à distribuição dos índices I, após permutações aleatórias de y no espaço:\")\n",
        "print(f\"Qtde. de permutações = {moran.permutations}\")\n",
        "print(f\"Esperança de I       = {moran.EI_sim}\")\n",
        "print(f\"P-valor de I         = {moran.p_sim}\")"
      ],
      "metadata": {
        "colab": {
          "base_uri": "https://localhost:8080/"
        },
        "id": "ToX1Owo4_ghC",
        "outputId": "3bc88372-0cc7-42f0-caf9-b82ad7e0aca7"
      },
      "execution_count": null,
      "outputs": [
        {
          "output_type": "stream",
          "name": "stdout",
          "text": [
            "Significância em relação à distribuição dos índices I, após permutações aleatórias de y no espaço:\n",
            "Qtde. de permutações = 999\n",
            "Esperança de I       = -8.014349957589776e-05\n",
            "P-valor de I         = 0.001\n"
          ]
        }
      ]
    },
    {
      "cell_type": "markdown",
      "source": [
        "Percebemos que o índice obtido é bem maior que a média esperada, e é significativo em relação a um grau de significância de 5% (p-valor = 0.001 < 5%)"
      ],
      "metadata": {
        "id": "HLpcm_PBAWqQ"
      }
    },
    {
      "cell_type": "markdown",
      "source": [
        "Concluímos que o valor de Moran's I = 0.9927140331806373 é estatisticamente significativo, e existe autocorrelação espacial positiva na variável ivs_10."
      ],
      "metadata": {
        "id": "telD-iMpAigc"
      }
    },
    {
      "cell_type": "markdown",
      "source": [
        "## Visualização do Moran's I"
      ],
      "metadata": {
        "id": "A7xcvHIfA2et"
      }
    },
    {
      "cell_type": "code",
      "source": [
        "fig, ax = moran_scatterplot(moran, aspect_equal=True)\n",
        "ax.set_xlabel('IVS_10')\n",
        "ax.set_ylabel('Lag espacial da mmpr_10')\n",
        "plt.show()"
      ],
      "metadata": {
        "colab": {
          "base_uri": "https://localhost:8080/",
          "height": 478
        },
        "id": "wF8Ii422AWBz",
        "outputId": "e7c5a300-3ab2-42dd-8c71-caaf95f85ca6"
      },
      "execution_count": null,
      "outputs": [
        {
          "output_type": "display_data",
          "data": {
            "text/plain": [
              "<Figure size 504x504 with 1 Axes>"
            ],
            "image/png": "[encoded data removed]"
          },
          "metadata": {
            "needs_background": "light"
          }
        }
      ]
    },
    {
      "cell_type": "markdown",
      "source": [
        "O valor do Moran's I é o coeficiente da reta de regressão entre a mmpr_10 e lag(mmpr_10)."
      ],
      "metadata": {
        "id": "aTaOuJouBL5_"
      }
    },
    {
      "cell_type": "markdown",
      "source": [
        "#### Autocorrelação espacial local"
      ],
      "metadata": {
        "id": "DpN6PsA-BciS"
      }
    },
    {
      "cell_type": "markdown",
      "source": [
        "Aqui, é feita a decomposição do Moran’s I de forma a construir uma medida localizada de autocorrelação. A ideia é encontrar hot spots e cold spots, que são regiões em que se encontram respectivamente pontos com maior e menor correlação espacial."
      ],
      "metadata": {
        "id": "BEPDaHeNBfek"
      }
    },
    {
      "cell_type": "code",
      "source": [
        "moran_loc = Moran_Local(y, weights_ocup)"
      ],
      "metadata": {
        "id": "LnhkV6G3BemY"
      },
      "execution_count": null,
      "outputs": []
    },
    {
      "cell_type": "markdown",
      "source": [
        "Fazemos um scatterplot que divide as áreas em 4 grupos:\n",
        "\n",
        "High-high: 1º quadrante (em vermelho no gráfico)\n",
        "Low-high: 2º quadrante\n",
        "Low-low: 3º quadrante (em amarelo no gráfico)\n",
        "High-low: 4º quadrante\n",
        "O parâmetro p é o p-valor que caracteriza o limite de significância no Moran's Local:\n",
        "\n",
        "Os pontos são coloridos de vermelho se forem considerados hot spots\n",
        "Os pontos são coloridos de azul escuro se forem considerados cold spots\n",
        "Os pontos ainda podem ser coloridos de amarelo ou de azul claro, se forem respectivamente High-Low ou Low-High. Os pontos em cinza não se caracterizam nem como hot spots nem como cold spots.\n",
        "\n",
        "Manteremos nosso p igual a 5%."
      ],
      "metadata": {
        "id": "bWPo51JFBy1u"
      }
    },
    {
      "cell_type": "code",
      "source": [
        "fig, ax = moran_scatterplot(moran_loc, p=0.05)\n",
        "ax.set_xlabel('IVS_10')\n",
        "ax.set_ylabel('Lag espacial da mmpr_10')\n",
        "plt.show()"
      ],
      "metadata": {
        "colab": {
          "base_uri": "https://localhost:8080/",
          "height": 478
        },
        "id": "eSQGKSnbB4kE",
        "outputId": "af26700b-f3d2-4fab-8690-562547395a7b"
      },
      "execution_count": null,
      "outputs": [
        {
          "output_type": "display_data",
          "data": {
            "text/plain": [
              "<Figure size 504x504 with 1 Axes>"
            ],
            "image/png": "[encoded data removed]"
          },
          "metadata": {
            "needs_background": "light"
          }
        }
      ]
    },
    {
      "cell_type": "markdown",
      "source": [
        "## Visualizamos os clusters em um mapa"
      ],
      "metadata": {
        "id": "MM_-dN9dCM79"
      }
    },
    {
      "cell_type": "code",
      "source": [
        "lisa_cluster(moran_loc, df_final, p=0.05, figsize=(9,9))\n",
        "plt.show()"
      ],
      "metadata": {
        "colab": {
          "base_uri": "https://localhost:8080/",
          "height": 520
        },
        "id": "0osoRqK5COed",
        "outputId": "5115127f-aaad-4d1e-d3bd-5038566fa25f"
      },
      "execution_count": null,
      "outputs": [
        {
          "output_type": "display_data",
          "data": {
            "text/plain": [
              "<Figure size 648x648 with 1 Axes>"
            ],
            "image/png": "[encoded data removed]"
          },
          "metadata": {
            "needs_background": "light"
          }
        }
      ]
    },
    {
      "cell_type": "markdown",
      "source": [
        "Visão combinada"
      ],
      "metadata": {
        "id": "dUKGccdhCcu2"
      }
    },
    {
      "cell_type": "code",
      "source": [
        "plot_local_autocorrelation(moran_loc, df_final, 'IVS_10')\n",
        "plt.show()"
      ],
      "metadata": {
        "colab": {
          "base_uri": "https://localhost:8080/",
          "height": 375
        },
        "id": "2JPe9fxNCe8j",
        "outputId": "23d35d47-8a7f-4243-ce17-88dcf482eaf0"
      },
      "execution_count": null,
      "outputs": [
        {
          "output_type": "stream",
          "name": "stderr",
          "text": [
            "/usr/local/lib/python3.7/dist-packages/mapclassify/classifiers.py:239: UserWarning: Warning: Not enough unique values in array to form k classes\n",
            "  \"Warning: Not enough unique values in array to form k classes\", UserWarning\n",
            "/usr/local/lib/python3.7/dist-packages/mapclassify/classifiers.py:241: UserWarning: Warning: setting k to 4\n",
            "  Warn(\"Warning: setting k to %d\" % k_q, UserWarning)\n"
          ]
        },
        {
          "output_type": "display_data",
          "data": {
            "text/plain": [
              "<Figure size 1080x288 with 3 Axes>"
            ],
            "image/png": "[encoded data removed]"
          },
          "metadata": {
            "needs_background": "light"
          }
        }
      ]
    },
    {
      "cell_type": "markdown",
      "source": [
        "Observamos que os pontos centrais a centros urbanos têm uma tendência a ter regiões de alta IVS_10 vizinhas de regiões de IVS_10, ao passo que boa parte dos pontos em azul e sudeste do país têm uma tendência a terem regiões de baixa  IVS_10 vizinhas de regiões de baixa  IVS_10.\n",
        "\n",
        "Percebemos que existe uma forte tendência central (LL = menor  IVS_10) em direção afastada dos centros urbanos (HH = Alta IVS_10)."
      ],
      "metadata": {
        "id": "qmnHreLIC9i_"
      }
    },
    {
      "cell_type": "markdown",
      "source": [
        "\n",
        "## Bivariate Moran's I"
      ],
      "metadata": {
        "id": "jUNXKN27Ebj6"
      }
    },
    {
      "cell_type": "markdown",
      "source": [
        "Aqui, vamos avaliar o grau de correlação espacial de duas variáveis.\n",
        "\n",
        "Vamos tomar a variável mmpr_10 e Densidade e calcular o grau de correlação espacial dessas duas variáveis.\n",
        "\n"
      ],
      "metadata": {
        "id": "En4Q5Y1wEnEU"
      }
    },
    {
      "cell_type": "code",
      "source": [
        "x = df_final['IVS_10'].values\n",
        "y = df_final['dens'].values # variável que utilizaremos como lag"
      ],
      "metadata": {
        "id": "yTVbIy4EC9Cx"
      },
      "execution_count": null,
      "outputs": []
    },
    {
      "cell_type": "code",
      "source": [
        "moran_bv = Moran_BV(x, y, weights_ocup)"
      ],
      "metadata": {
        "id": "5KOO8dCQGQ6G"
      },
      "execution_count": null,
      "outputs": []
    },
    {
      "cell_type": "markdown",
      "source": [
        "É importante notar que Moran_BV(x, y, weights) != Moran_BV(y, x, weights), pois estamos calculando o lag com variáveis diferentes."
      ],
      "metadata": {
        "id": "gSwerEx-Ggh4"
      }
    },
    {
      "cell_type": "code",
      "source": [
        "moran_bv.I"
      ],
      "metadata": {
        "colab": {
          "base_uri": "https://localhost:8080/"
        },
        "id": "A077wTLXGhiD",
        "outputId": "c4ec24d7-376c-4c4b-cf67-509c2cfa8d78"
      },
      "execution_count": null,
      "outputs": [
        {
          "output_type": "execute_result",
          "data": {
            "text/plain": [
              "-0.6143076289786548"
            ]
          },
          "metadata": {},
          "execution_count": 42
        }
      ]
    },
    {
      "cell_type": "markdown",
      "source": [
        "\n",
        "O valor de autocorrelação é negativa.\n"
      ],
      "metadata": {
        "id": "VqDnG7MzGoen"
      }
    },
    {
      "cell_type": "markdown",
      "source": [
        "## Cálculo da significância"
      ],
      "metadata": {
        "id": "Ozo0eRKKGwPB"
      }
    },
    {
      "cell_type": "markdown",
      "source": [
        "Faremos da mesma forma que o cálculo do Moran's I univariado. Vamos utilizar permutações para rejeitar a hipótese nula (H0) de aleatoriadade espacial dos y com significância (p-valor) de 5%."
      ],
      "metadata": {
        "id": "z_Lsv4B6G3l4"
      }
    },
    {
      "cell_type": "code",
      "source": [
        "print(\"Significância em relação à distribuição dos índices I, após permutações aleatórias de y no espaço:\")\n",
        "print(f\"Qtde. de permutações = 999\")\n",
        "print(f\"Esperança de I       = {moran_bv.EI_sim}\")\n",
        "print(f\"P-valor de I         = {moran_bv.p_sim}\")"
      ],
      "metadata": {
        "colab": {
          "base_uri": "https://localhost:8080/"
        },
        "id": "zW61EgPDGn_k",
        "outputId": "87622ebe-2673-4eea-dd6d-c44807c73fe8"
      },
      "execution_count": null,
      "outputs": [
        {
          "output_type": "stream",
          "name": "stdout",
          "text": [
            "Significância em relação à distribuição dos índices I, após permutações aleatórias de y no espaço:\n",
            "Qtde. de permutações = 999\n",
            "Esperança de I       = 0.000672540743881838\n",
            "P-valor de I         = 0.001\n"
          ]
        }
      ]
    },
    {
      "cell_type": "markdown",
      "source": [
        "Percebemos que o índice obtido é bem maior que a média esperada, e é significativo em relação a um grau de significância de 5% (p-valor = 0.001 < 5%)."
      ],
      "metadata": {
        "id": "-ffZbeW3HGBU"
      }
    },
    {
      "cell_type": "markdown",
      "source": [
        "Ou seja, existe uma correlação espacial negativa entre:\n",
        "\n",
        "*   IVS_10\n",
        "*   Densidade\n"
      ],
      "metadata": {
        "id": "BNKvrfByHVK2"
      }
    },
    {
      "cell_type": "markdown",
      "source": [
        "## Visualização do Moran's I"
      ],
      "metadata": {
        "id": "8wKJDmFlHwPr"
      }
    },
    {
      "cell_type": "code",
      "source": [
        "plot_moran_bv(moran_bv)\n",
        "plt.show()"
      ],
      "metadata": {
        "colab": {
          "base_uri": "https://localhost:8080/",
          "height": 306
        },
        "id": "S_ppFgtpHyZB",
        "outputId": "d0e36802-f93c-4924-8940-eb4c92a161da"
      },
      "execution_count": null,
      "outputs": [
        {
          "output_type": "display_data",
          "data": {
            "text/plain": [
              "<Figure size 720x288 with 2 Axes>"
            ],
            "image/png": "[encoded data removed]"
          },
          "metadata": {
            "needs_background": "light"
          }
        }
      ]
    },
    {
      "cell_type": "markdown",
      "source": [
        "Aqui podemos observar a distribuição normal de referência para o Moran's index, e a linha vermelha à direita mostra o valor de moran_bv.I obtido. O valor da área sob a curva, para bv_**index > -0,61 **é menor que o p-valor, de modo que rejeitamos a hipótese nula (H0) de distribuição aleatória de y."
      ],
      "metadata": {
        "id": "vXzVeTa2IZaS"
      }
    },
    {
      "cell_type": "markdown",
      "source": [
        "### Moran's I Bivariado Local"
      ],
      "metadata": {
        "id": "jxjWjUtCIurT"
      }
    },
    {
      "cell_type": "code",
      "source": [
        "moran_loc_bv = Moran_Local_BV(y, x, weights_ocup)\n",
        "fig, ax = moran_scatterplot(moran_loc_bv, p=0.05)\n",
        "ax.set_xlabel('IVS_10')\n",
        "ax.set_ylabel('LAG ESPACIAL da Densidade')\n",
        "plt.show()"
      ],
      "metadata": {
        "colab": {
          "base_uri": "https://localhost:8080/",
          "height": 409
        },
        "id": "JqYWnP_HIv9s",
        "outputId": "d4f778de-b3ad-48fb-a3f8-b587ebfe60b2"
      },
      "execution_count": null,
      "outputs": [
        {
          "output_type": "display_data",
          "data": {
            "text/plain": [
              "<Figure size 504x504 with 1 Axes>"
            ],
            "image/png": "[encoded data removed]"
          },
          "metadata": {
            "needs_background": "light"
          }
        }
      ]
    },
    {
      "cell_type": "code",
      "source": [
        "lisa_cluster(moran_loc_bv, df_final, p=0.05, figsize=(9,9))\n",
        "plt.show()"
      ],
      "metadata": {
        "colab": {
          "base_uri": "https://localhost:8080/",
          "height": 520
        },
        "id": "tuRJjp99JTS0",
        "outputId": "8831c1ce-f284-4d66-d47d-7d7fd8dfa86a"
      },
      "execution_count": null,
      "outputs": [
        {
          "output_type": "display_data",
          "data": {
            "text/plain": [
              "<Figure size 648x648 with 1 Axes>"
            ],
            "image/png": "[encoded data removed]"
          },
          "metadata": {
            "needs_background": "light"
          }
        }
      ]
    },
    {
      "cell_type": "markdown",
      "source": [
        "# 6. Conclusão"
      ],
      "metadata": {
        "id": "BU4P1Na3usz6"
      }
    },
    {
      "cell_type": "markdown",
      "source": [
        "Observamos que principalmente os pontos afastados dos centros urbanos apresentam uma tendência a ter regiões de Baixa densidade poulacional, ao passo que os centrais ao centros urbanos têm uma tendência a terem regiões de alta IVS_10 vizinhas de regiões de alta densidade populacional.\n",
        "\n",
        "Esse é um resultado curioso, uma vez que no Municipio de Recife apresenta-se principalmente com região com alta densidade de ocupações, mas ao mesmo tempo existe trecho com a densidade pequena de ocupações. Entretanto, estamos observando somente para ano 2010."
      ],
      "metadata": {
        "id": "U7rZ68_4Je0t"
      }
    }
  ]
}